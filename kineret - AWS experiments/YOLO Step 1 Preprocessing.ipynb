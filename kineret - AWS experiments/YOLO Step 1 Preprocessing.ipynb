{
 "cells": [
  {
   "cell_type": "markdown",
   "metadata": {},
   "source": [
    "# YOLO Step 1 - Preprocessing"
   ]
  },
  {
   "cell_type": "code",
   "execution_count": 6,
   "metadata": {},
   "outputs": [],
   "source": [
    "import matplotlib.pyplot as plt\n",
    "import matplotlib.image as mpimg\n",
    "import numpy as np\n",
    "import io\n",
    "import pandas as pd"
   ]
  },
  {
   "cell_type": "code",
   "execution_count": 8,
   "metadata": {},
   "outputs": [
    {
     "name": "stdout",
     "output_type": "stream",
     "text": [
      "1.19.12\n"
     ]
    }
   ],
   "source": [
    "# !pip uninstall boto3 # do this in command line\n",
    "# !pip install boto3==1.19.12\n",
    "\n",
    "\n",
    "#!conda install boto3=1.18.21\n",
    "import boto3\n",
    "print(boto3.__version__)\n",
    "\n",
    "\n",
    "bucket = 'autoarki-ground-truth-labeling'\n",
    "client = boto3.client('s3')\n",
    "response = client.list_objects_v2(Bucket=bucket)\n"
   ]
  },
  {
   "cell_type": "code",
   "execution_count": 9,
   "metadata": {},
   "outputs": [
    {
     "name": "stdout",
     "output_type": "stream",
     "text": [
      "2021.11.1\n"
     ]
    }
   ],
   "source": [
    "import s3fs\n",
    "print(s3fs.__version__)"
   ]
  },
  {
   "cell_type": "code",
   "execution_count": 10,
   "metadata": {},
   "outputs": [
    {
     "name": "stdout",
     "output_type": "stream",
     "text": [
      "1.22.12\n"
     ]
    }
   ],
   "source": [
    "import botocore\n",
    "print(botocore.__version__)"
   ]
  },
  {
   "cell_type": "markdown",
   "metadata": {},
   "source": [
    "## View one of the original raw files"
   ]
  },
  {
   "cell_type": "code",
   "execution_count": 11,
   "metadata": {},
   "outputs": [
    {
     "data": {
      "text/plain": [
       "{'ResponseMetadata': {'RequestId': 'FKJDY2685GGHJCVB',\n",
       "  'HostId': 'IcD8K+n/9T0suI0GnBx8AyDKAWU1VjZRYx3q3A2IIxdWdHP3Wid1je6TWLlzbYplTD4uycrtDDw=',\n",
       "  'HTTPStatusCode': 200,\n",
       "  'HTTPHeaders': {'x-amz-id-2': 'IcD8K+n/9T0suI0GnBx8AyDKAWU1VjZRYx3q3A2IIxdWdHP3Wid1je6TWLlzbYplTD4uycrtDDw=',\n",
       "   'x-amz-request-id': 'FKJDY2685GGHJCVB',\n",
       "   'date': 'Thu, 24 Feb 2022 21:47:48 GMT',\n",
       "   'last-modified': 'Sat, 19 Feb 2022 00:24:31 GMT',\n",
       "   'etag': '\"5c879dcfb0c70d453e7791c2edc67f29\"',\n",
       "   'accept-ranges': 'bytes',\n",
       "   'content-type': 'image/jpeg',\n",
       "   'server': 'AmazonS3',\n",
       "   'content-length': '83894'},\n",
       "  'RetryAttempts': 0},\n",
       " 'AcceptRanges': 'bytes',\n",
       " 'LastModified': datetime.datetime(2022, 2, 19, 0, 24, 31, tzinfo=tzutc()),\n",
       " 'ContentLength': 83894,\n",
       " 'ETag': '\"5c879dcfb0c70d453e7791c2edc67f29\"',\n",
       " 'ContentType': 'image/jpeg',\n",
       " 'Metadata': {},\n",
       " 'Body': <botocore.response.StreamingBody at 0x7f81dc58b110>}"
      ]
     },
     "execution_count": 11,
     "metadata": {},
     "output_type": "execute_result"
    }
   ],
   "source": [
    "file_name = 'bounding_box/images/0.jpg'\n",
    "s3_clientobj = client.get_object(Bucket= bucket, Key=file_name)\n",
    "s3_clientobj"
   ]
  },
  {
   "cell_type": "code",
   "execution_count": 12,
   "metadata": {},
   "outputs": [
    {
     "data": {
      "text/plain": [
       "<matplotlib.image.AxesImage at 0x7f81da4e4e50>"
      ]
     },
     "execution_count": 12,
     "metadata": {},
     "output_type": "execute_result"
    },
    {
     "data": {
      "image/png": "[encoded data removed]",
      "text/plain": [
       "<Figure size 432x288 with 1 Axes>"
      ]
     },
     "metadata": {
      "needs_background": "light"
     },
     "output_type": "display_data"
    }
   ],
   "source": [
    "from io import BytesIO\n",
    "image = mpimg.imread(BytesIO(s3_clientobj['Body'].read()), 'jp2')\n",
    "\n",
    "plt.figure(0)\n",
    "plt.imshow(image)\n"
   ]
  },
  {
   "cell_type": "markdown",
   "metadata": {},
   "source": [
    "## for each image return the bounding boxes\n",
    "1. Update input.json \n",
    "\n",
    "https://aws.amazon.com/blogs/machine-learning/streamlining-data-labeling-for-yolo-object-detection-in-amazon-sagemaker-ground-truth/"
   ]
  },
  {
   "cell_type": "markdown",
   "metadata": {},
   "source": [
    "2. Create a csv with each image and annotation"
   ]
  },
  {
   "cell_type": "code",
   "execution_count": 57,
   "metadata": {},
   "outputs": [],
   "source": [
    "# create and save a csv with all the annotations combined\n",
    "mani_path = \"s3://autoarki-ground-truth-labeling/bounding_box/ground_truth_annots/yolo-bbox-train/manifests/output.manifest\"\n",
    "job_name = 'yolo-bbox-train'\n",
    "\n",
    "# create df\n",
    "from  parse_annot import *\n",
    "df_annot = parse_gt_output(mani_path, job_name)\n",
    "dest = \"bounding_box/ground_truth_annots/yolo-bbox-train\"\n",
    "\n",
    "# save out\n",
    "df_annot.to_csv(f\"s3://{bucket}/{dest}/annot.csv\", index = False)\n",
    "\n"
   ]
  },
  {
   "cell_type": "code",
   "execution_count": 63,
   "metadata": {},
   "outputs": [
    {
     "data": {
      "text/html": [
       "<div>\n",
       "<style scoped>\n",
       "    .dataframe tbody tr th:only-of-type {\n",
       "        vertical-align: middle;\n",
       "    }\n",
       "\n",
       "    .dataframe tbody tr th {\n",
       "        vertical-align: top;\n",
       "    }\n",
       "\n",
       "    .dataframe thead th {\n",
       "        text-align: right;\n",
       "    }\n",
       "</style>\n",
       "<table border=\"1\" class=\"dataframe\">\n",
       "  <thead>\n",
       "    <tr style=\"text-align: right;\">\n",
       "      <th></th>\n",
       "      <th>img_file</th>\n",
       "      <th>category</th>\n",
       "      <th>box_left</th>\n",
       "      <th>box_top</th>\n",
       "      <th>box_height</th>\n",
       "      <th>box_width</th>\n",
       "      <th>img_width</th>\n",
       "      <th>img_height</th>\n",
       "    </tr>\n",
       "  </thead>\n",
       "  <tbody>\n",
       "    <tr>\n",
       "      <th>0</th>\n",
       "      <td>100.jpg</td>\n",
       "      <td>overlapping text</td>\n",
       "      <td>463</td>\n",
       "      <td>688</td>\n",
       "      <td>62</td>\n",
       "      <td>44</td>\n",
       "      <td>1000</td>\n",
       "      <td>1000</td>\n",
       "    </tr>\n",
       "    <tr>\n",
       "      <th>1</th>\n",
       "      <td>1041.jpg</td>\n",
       "      <td>overlapping text</td>\n",
       "      <td>549</td>\n",
       "      <td>248</td>\n",
       "      <td>42</td>\n",
       "      <td>60</td>\n",
       "      <td>1000</td>\n",
       "      <td>1000</td>\n",
       "    </tr>\n",
       "    <tr>\n",
       "      <th>2</th>\n",
       "      <td>1042.jpg</td>\n",
       "      <td>overlapping text</td>\n",
       "      <td>707</td>\n",
       "      <td>659</td>\n",
       "      <td>130</td>\n",
       "      <td>33</td>\n",
       "      <td>1000</td>\n",
       "      <td>1000</td>\n",
       "    </tr>\n",
       "    <tr>\n",
       "      <th>3</th>\n",
       "      <td>1047.jpg</td>\n",
       "      <td>overlapping text</td>\n",
       "      <td>476</td>\n",
       "      <td>498</td>\n",
       "      <td>128</td>\n",
       "      <td>31</td>\n",
       "      <td>1000</td>\n",
       "      <td>1000</td>\n",
       "    </tr>\n",
       "    <tr>\n",
       "      <th>4</th>\n",
       "      <td>1070.jpg</td>\n",
       "      <td>overlapping text</td>\n",
       "      <td>278</td>\n",
       "      <td>263</td>\n",
       "      <td>27</td>\n",
       "      <td>100</td>\n",
       "      <td>1000</td>\n",
       "      <td>1000</td>\n",
       "    </tr>\n",
       "  </tbody>\n",
       "</table>\n",
       "</div>"
      ],
      "text/plain": [
       "   img_file          category  box_left  box_top  box_height  box_width  \\\n",
       "0   100.jpg  overlapping text       463      688          62         44   \n",
       "1  1041.jpg  overlapping text       549      248          42         60   \n",
       "2  1042.jpg  overlapping text       707      659         130         33   \n",
       "3  1047.jpg  overlapping text       476      498         128         31   \n",
       "4  1070.jpg  overlapping text       278      263          27        100   \n",
       "\n",
       "   img_width  img_height  \n",
       "0       1000        1000  \n",
       "1       1000        1000  \n",
       "2       1000        1000  \n",
       "3       1000        1000  \n",
       "4       1000        1000  "
      ]
     },
     "execution_count": 63,
     "metadata": {},
     "output_type": "execute_result"
    }
   ],
   "source": [
    "df_annot.head()"
   ]
  },
  {
   "cell_type": "markdown",
   "metadata": {},
   "source": [
    "3. Get bounding boxes for each image"
   ]
  },
  {
   "cell_type": "code",
   "execution_count": 58,
   "metadata": {},
   "outputs": [],
   "source": [
    "# grab csv from S3 into memory\n",
    "file_key = \"annot.csv\"\n",
    "annot_file = 's3://{}/{}/{}'.format(bucket, dest, file_key)\n"
   ]
  },
  {
   "cell_type": "markdown",
   "metadata": {},
   "source": [
    "## Preprocess into YOLO format"
   ]
  },
  {
   "cell_type": "code",
   "execution_count": 67,
   "metadata": {},
   "outputs": [],
   "source": [
    "def annot_yolo(annot_file, cats):\n",
    "    \"\"\"\n",
    "    Prepares the annotation in YOLO format\n",
    "\n",
    "    Input:\n",
    "    annot_file: csv file containing Ground Truth annotations\n",
    "    ordered_cats: List of object categories in proper order for model training\n",
    "\n",
    "    Returns:\n",
    "    df_ann: pandas dataframe with the following columns\n",
    "            img_file int_category box_center_w box_center_h box_width box_height\n",
    "\n",
    "\n",
    "    Note:\n",
    "    YOLO data format: <object-class> <x_center> <y_center> <width> <height>\n",
    "    \"\"\"\n",
    "\n",
    "    df_ann = pd.read_csv(annot_file)\n",
    "\n",
    "    df_ann[\"int_category\"] = df_ann[\"category\"].apply(lambda x: cats.index(x))\n",
    "    df_ann[\"box_center_w\"] = df_ann[\"box_left\"] + df_ann[\"box_width\"] / 2\n",
    "    df_ann[\"box_center_h\"] = df_ann[\"box_top\"] + df_ann[\"box_height\"] / 2\n",
    "\n",
    "    # scale box dimensions by image dimensions\n",
    "    df_ann[\"box_center_w\"] = df_ann[\"box_center_w\"] / df_ann[\"img_width\"]\n",
    "    df_ann[\"box_center_h\"] = df_ann[\"box_center_h\"] / df_ann[\"img_height\"]\n",
    "    df_ann[\"box_width\"] = df_ann[\"box_width\"] / df_ann[\"img_width\"]\n",
    "    df_ann[\"box_height\"] = df_ann[\"box_height\"] / df_ann[\"img_height\"]\n",
    "\n",
    "    return df_ann"
   ]
  },
  {
   "cell_type": "code",
   "execution_count": 69,
   "metadata": {},
   "outputs": [
    {
     "data": {
      "text/html": [
       "<div>\n",
       "<style scoped>\n",
       "    .dataframe tbody tr th:only-of-type {\n",
       "        vertical-align: middle;\n",
       "    }\n",
       "\n",
       "    .dataframe tbody tr th {\n",
       "        vertical-align: top;\n",
       "    }\n",
       "\n",
       "    .dataframe thead th {\n",
       "        text-align: right;\n",
       "    }\n",
       "</style>\n",
       "<table border=\"1\" class=\"dataframe\">\n",
       "  <thead>\n",
       "    <tr style=\"text-align: right;\">\n",
       "      <th></th>\n",
       "      <th>img_file</th>\n",
       "      <th>category</th>\n",
       "      <th>box_left</th>\n",
       "      <th>box_top</th>\n",
       "      <th>box_height</th>\n",
       "      <th>box_width</th>\n",
       "      <th>img_width</th>\n",
       "      <th>img_height</th>\n",
       "      <th>int_category</th>\n",
       "      <th>box_center_w</th>\n",
       "      <th>box_center_h</th>\n",
       "    </tr>\n",
       "  </thead>\n",
       "  <tbody>\n",
       "    <tr>\n",
       "      <th>0</th>\n",
       "      <td>100.jpg</td>\n",
       "      <td>overlapping text</td>\n",
       "      <td>463</td>\n",
       "      <td>688</td>\n",
       "      <td>0.062</td>\n",
       "      <td>0.044</td>\n",
       "      <td>1000</td>\n",
       "      <td>1000</td>\n",
       "      <td>0</td>\n",
       "      <td>0.4850</td>\n",
       "      <td>0.7190</td>\n",
       "    </tr>\n",
       "    <tr>\n",
       "      <th>1</th>\n",
       "      <td>1041.jpg</td>\n",
       "      <td>overlapping text</td>\n",
       "      <td>549</td>\n",
       "      <td>248</td>\n",
       "      <td>0.042</td>\n",
       "      <td>0.060</td>\n",
       "      <td>1000</td>\n",
       "      <td>1000</td>\n",
       "      <td>0</td>\n",
       "      <td>0.5790</td>\n",
       "      <td>0.2690</td>\n",
       "    </tr>\n",
       "    <tr>\n",
       "      <th>2</th>\n",
       "      <td>1042.jpg</td>\n",
       "      <td>overlapping text</td>\n",
       "      <td>707</td>\n",
       "      <td>659</td>\n",
       "      <td>0.130</td>\n",
       "      <td>0.033</td>\n",
       "      <td>1000</td>\n",
       "      <td>1000</td>\n",
       "      <td>0</td>\n",
       "      <td>0.7235</td>\n",
       "      <td>0.7240</td>\n",
       "    </tr>\n",
       "    <tr>\n",
       "      <th>3</th>\n",
       "      <td>1047.jpg</td>\n",
       "      <td>overlapping text</td>\n",
       "      <td>476</td>\n",
       "      <td>498</td>\n",
       "      <td>0.128</td>\n",
       "      <td>0.031</td>\n",
       "      <td>1000</td>\n",
       "      <td>1000</td>\n",
       "      <td>0</td>\n",
       "      <td>0.4915</td>\n",
       "      <td>0.5620</td>\n",
       "    </tr>\n",
       "    <tr>\n",
       "      <th>4</th>\n",
       "      <td>1070.jpg</td>\n",
       "      <td>overlapping text</td>\n",
       "      <td>278</td>\n",
       "      <td>263</td>\n",
       "      <td>0.027</td>\n",
       "      <td>0.100</td>\n",
       "      <td>1000</td>\n",
       "      <td>1000</td>\n",
       "      <td>0</td>\n",
       "      <td>0.3280</td>\n",
       "      <td>0.2765</td>\n",
       "    </tr>\n",
       "    <tr>\n",
       "      <th>...</th>\n",
       "      <td>...</td>\n",
       "      <td>...</td>\n",
       "      <td>...</td>\n",
       "      <td>...</td>\n",
       "      <td>...</td>\n",
       "      <td>...</td>\n",
       "      <td>...</td>\n",
       "      <td>...</td>\n",
       "      <td>...</td>\n",
       "      <td>...</td>\n",
       "      <td>...</td>\n",
       "    </tr>\n",
       "    <tr>\n",
       "      <th>244</th>\n",
       "      <td>5668.jpg</td>\n",
       "      <td>overlapping text</td>\n",
       "      <td>660</td>\n",
       "      <td>253</td>\n",
       "      <td>0.077</td>\n",
       "      <td>0.052</td>\n",
       "      <td>1000</td>\n",
       "      <td>1000</td>\n",
       "      <td>0</td>\n",
       "      <td>0.6860</td>\n",
       "      <td>0.2915</td>\n",
       "    </tr>\n",
       "    <tr>\n",
       "      <th>245</th>\n",
       "      <td>5668.jpg</td>\n",
       "      <td>overlapping text</td>\n",
       "      <td>722</td>\n",
       "      <td>172</td>\n",
       "      <td>0.077</td>\n",
       "      <td>0.051</td>\n",
       "      <td>1000</td>\n",
       "      <td>1000</td>\n",
       "      <td>0</td>\n",
       "      <td>0.7475</td>\n",
       "      <td>0.2105</td>\n",
       "    </tr>\n",
       "    <tr>\n",
       "      <th>246</th>\n",
       "      <td>5679.jpg</td>\n",
       "      <td>overlapping text</td>\n",
       "      <td>8</td>\n",
       "      <td>0</td>\n",
       "      <td>0.136</td>\n",
       "      <td>0.089</td>\n",
       "      <td>1000</td>\n",
       "      <td>1000</td>\n",
       "      <td>0</td>\n",
       "      <td>0.0525</td>\n",
       "      <td>0.0680</td>\n",
       "    </tr>\n",
       "    <tr>\n",
       "      <th>247</th>\n",
       "      <td>5679.jpg</td>\n",
       "      <td>overlapping text</td>\n",
       "      <td>125</td>\n",
       "      <td>909</td>\n",
       "      <td>0.091</td>\n",
       "      <td>0.074</td>\n",
       "      <td>1000</td>\n",
       "      <td>1000</td>\n",
       "      <td>0</td>\n",
       "      <td>0.1620</td>\n",
       "      <td>0.9545</td>\n",
       "    </tr>\n",
       "    <tr>\n",
       "      <th>248</th>\n",
       "      <td>5876.jpg</td>\n",
       "      <td>overlapping text</td>\n",
       "      <td>278</td>\n",
       "      <td>628</td>\n",
       "      <td>0.037</td>\n",
       "      <td>0.063</td>\n",
       "      <td>1000</td>\n",
       "      <td>1000</td>\n",
       "      <td>0</td>\n",
       "      <td>0.3095</td>\n",
       "      <td>0.6465</td>\n",
       "    </tr>\n",
       "  </tbody>\n",
       "</table>\n",
       "<p>249 rows × 11 columns</p>\n",
       "</div>"
      ],
      "text/plain": [
       "     img_file          category  box_left  box_top  box_height  box_width  \\\n",
       "0     100.jpg  overlapping text       463      688       0.062      0.044   \n",
       "1    1041.jpg  overlapping text       549      248       0.042      0.060   \n",
       "2    1042.jpg  overlapping text       707      659       0.130      0.033   \n",
       "3    1047.jpg  overlapping text       476      498       0.128      0.031   \n",
       "4    1070.jpg  overlapping text       278      263       0.027      0.100   \n",
       "..        ...               ...       ...      ...         ...        ...   \n",
       "244  5668.jpg  overlapping text       660      253       0.077      0.052   \n",
       "245  5668.jpg  overlapping text       722      172       0.077      0.051   \n",
       "246  5679.jpg  overlapping text         8        0       0.136      0.089   \n",
       "247  5679.jpg  overlapping text       125      909       0.091      0.074   \n",
       "248  5876.jpg  overlapping text       278      628       0.037      0.063   \n",
       "\n",
       "     img_width  img_height  int_category  box_center_w  box_center_h  \n",
       "0         1000        1000             0        0.4850        0.7190  \n",
       "1         1000        1000             0        0.5790        0.2690  \n",
       "2         1000        1000             0        0.7235        0.7240  \n",
       "3         1000        1000             0        0.4915        0.5620  \n",
       "4         1000        1000             0        0.3280        0.2765  \n",
       "..         ...         ...           ...           ...           ...  \n",
       "244       1000        1000             0        0.6860        0.2915  \n",
       "245       1000        1000             0        0.7475        0.2105  \n",
       "246       1000        1000             0        0.0525        0.0680  \n",
       "247       1000        1000             0        0.1620        0.9545  \n",
       "248       1000        1000             0        0.3095        0.6465  \n",
       "\n",
       "[249 rows x 11 columns]"
      ]
     },
     "execution_count": 69,
     "metadata": {},
     "output_type": "execute_result"
    }
   ],
   "source": [
    "df_annot = annot_yolo(annot_file, \"overlapping text\")\n",
    "df_annot"
   ]
  },
  {
   "cell_type": "code",
   "execution_count": null,
   "metadata": {},
   "outputs": [],
   "source": [
    "df_ann = annot_rcnn(annot_file, \"Overlapping text\")\n",
    "df_ann.head()"
   ]
  },
  {
   "cell_type": "code",
   "execution_count": 61,
   "metadata": {},
   "outputs": [],
   "source": [
    "def save_annots_to_s3(s3_bucket, prefix, df_local):\n",
    "    \"\"\"\n",
    "    For every image in the dataset, save a text file with annotation in YOLO format\n",
    "\n",
    "    Input:\n",
    "    s3_bucket: S3 bucket name\n",
    "    prefix: Folder name under s3_bucket where files will be written\n",
    "    df_local: pandas dataframe with the following columns\n",
    "              img_file int_category box_center_w box_center_h box_width box_height\n",
    "    \"\"\"\n",
    "\n",
    "    unique_images = df_local[\"img_file\"].unique()\n",
    "    s3_resource = boto3.resource(\"s3\")\n",
    "\n",
    "    for image_file in unique_images:\n",
    "        df_single_img_annots = df_local.loc[df_local.img_file == image_file]\n",
    "        annot_txt_file = image_file.split(\".\")[0] + \".txt\"\n",
    "        destination = f\"{prefix}/{annot_txt_file}\"\n",
    "\n",
    "        csv_buffer = StringIO()\n",
    "        df_single_img_annots.to_csv(\n",
    "            csv_buffer,\n",
    "            index=False,\n",
    "            header=False,\n",
    "            sep=\" \",\n",
    "            float_format=\"%.4f\",\n",
    "            columns=[\n",
    "                \"int_category\",\n",
    "                \"box_center_w\",\n",
    "                \"box_center_h\",\n",
    "                \"box_width\",\n",
    "                \"box_height\",\n",
    "            ],\n",
    "        )\n",
    "        s3_resource.Object(s3_bucket, destination).put(Body=csv_buffer.getvalue())"
   ]
  },
  {
   "cell_type": "code",
   "execution_count": 72,
   "metadata": {},
   "outputs": [],
   "source": [
    "save_annots_to_s3(bucket, \"bounding_box/ground_truth_annots/yolo-bbox-train/yolo_friendly_format\", df_annot)"
   ]
  },
  {
   "cell_type": "markdown",
   "metadata": {},
   "source": [
    "## View the bounding box on the annotated original image\n"
   ]
  },
  {
   "cell_type": "code",
   "execution_count": 77,
   "metadata": {},
   "outputs": [
    {
     "name": "stdout",
     "output_type": "stream",
     "text": [
      "download: s3://autoarki-ground-truth-labeling/bounding_box/images/100.jpg to ./100.jpg\n"
     ]
    }
   ],
   "source": [
    "#Download an image and the corresponding annotation file from Amazon S3. See the following code:\n",
    "\n",
    "!aws s3 cp s3://autoarki-ground-truth-labeling/bounding_box/ground_truth_annots/yolo-bbox-train/yolo_friendly_format/100.txt .\n",
    "!aws s3 cp s3://autoarki-ground-truth-labeling/bounding_box/images/100.jpg ."
   ]
  },
  {
   "cell_type": "code",
   "execution_count": 101,
   "metadata": {},
   "outputs": [
    {
     "data": {
      "image/png": "[encoded data removed]",
      "text/plain": [
       "<Figure size 432x576 with 1 Axes>"
      ]
     },
     "metadata": {
      "needs_background": "light"
     },
     "output_type": "display_data"
    }
   ],
   "source": [
    "#Plots bounding boxes on images\n",
    "\n",
    "figure_size=(6, 8)\n",
    "label_dict = {0: \"overlapping text\"}\n",
    "img_file = '100.jpg'\n",
    "yolo_ann_file = '100.txt'\n",
    "\n",
    "img = mpimg.imread(img_file)\n",
    "fig, ax = plt.subplots(1, 1, figsize=figure_size)\n",
    "ax.imshow(img)\n",
    "\n",
    "im_height, im_width = img.shape\n",
    "palette = mcolors.TABLEAU_COLORS\n",
    "colors = [c for c in palette.keys()]\n",
    "with open(yolo_ann_file, \"r\") as fin:\n",
    "    for line in fin:\n",
    "\n",
    "        cat, center_w, center_h, width, height = line.split()\n",
    "        cat = int(cat)\n",
    "        category_name = label_dict[cat]\n",
    "        left = (float(center_w) - float(width) / 2) * im_width\n",
    "        top = (float(center_h) - float(height) / 2) * im_height\n",
    "        width = float(width) * im_width\n",
    "        height = float(height) * im_height\n",
    "\n",
    "        rect = plt.Rectangle(\n",
    "            (left, top),\n",
    "            width,\n",
    "            height,\n",
    "            fill=False,\n",
    "            linewidth=2,\n",
    "            edgecolor=colors[cat],\n",
    "        )\n",
    "        ax.add_patch(rect)\n",
    "        props = dict(boxstyle=\"round\", facecolor=colors[cat], alpha=0.5)\n",
    "        ax.text(\n",
    "            left,\n",
    "            top,\n",
    "            category_name,\n",
    "            fontsize=14,\n",
    "            verticalalignment=\"top\",\n",
    "            bbox=props,\n",
    "        ) \n",
    "plt.show()"
   ]
  }
 ],
 "metadata": {
  "instance_type": "ml.t3.medium",
  "kernelspec": {
   "display_name": "Python 3 (Data Science)",
   "language": "python",
   "name": "python3__SAGEMAKER_INTERNAL__arn:aws:sagemaker:us-west-2:236514542706:image/datascience-1.0"
  },
  "language_info": {
   "codemirror_mode": {
    "name": "ipython",
    "version": 3
   },
   "file_extension": ".py",
   "mimetype": "text/x-python",
   "name": "python",
   "nbconvert_exporter": "python",
   "pygments_lexer": "ipython3",
   "version": "3.7.10"
  }
 },
 "nbformat": 4,
 "nbformat_minor": 4
}
