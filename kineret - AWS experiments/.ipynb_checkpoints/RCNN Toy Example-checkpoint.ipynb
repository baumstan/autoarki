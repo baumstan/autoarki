{
 "cells": [
  {
   "cell_type": "markdown",
   "metadata": {},
   "source": [
    "# Import custom images and annotations"
   ]
  },
  {
   "cell_type": "code",
   "execution_count": 37,
   "metadata": {},
   "outputs": [],
   "source": [
    "import matplotlib.pyplot as plt\n",
    "import matplotlib.image as mpimg\n",
    "import numpy as np\n",
    "import boto3\n",
    "import io\n",
    "import pandas as pd\n",
    "\n",
    "bucket = 'label-test3'\n",
    "client = boto3.client('s3')\n",
    "response = client.list_objects_v2(Bucket=bucket)\n"
   ]
  },
  {
   "cell_type": "markdown",
   "metadata": {},
   "source": [
    "## View one of the original raw files"
   ]
  },
  {
   "cell_type": "code",
   "execution_count": 2,
   "metadata": {},
   "outputs": [
    {
     "data": {
      "text/plain": [
       "{'ResponseMetadata': {'RequestId': 'N4QD5XFW0952E1ST',\n",
       "  'HostId': 'va+liH4Ym5gwvjF2mlMqwZ71MGVMTd5829lgEQwP0GMw+6AkrS2ZWGEB6bUngipSpa/EE5WIbGI=',\n",
       "  'HTTPStatusCode': 200,\n",
       "  'HTTPHeaders': {'x-amz-id-2': 'va+liH4Ym5gwvjF2mlMqwZ71MGVMTd5829lgEQwP0GMw+6AkrS2ZWGEB6bUngipSpa/EE5WIbGI=',\n",
       "   'x-amz-request-id': 'N4QD5XFW0952E1ST',\n",
       "   'date': 'Wed, 16 Feb 2022 04:19:06 GMT',\n",
       "   'last-modified': 'Tue, 15 Feb 2022 21:57:06 GMT',\n",
       "   'etag': '\"e04e8c567f9a188bb064608f007273e9\"',\n",
       "   'accept-ranges': 'bytes',\n",
       "   'content-type': 'image/jpeg',\n",
       "   'server': 'AmazonS3',\n",
       "   'content-length': '332269'},\n",
       "  'RetryAttempts': 0},\n",
       " 'AcceptRanges': 'bytes',\n",
       " 'LastModified': datetime.datetime(2022, 2, 15, 21, 57, 6, tzinfo=tzutc()),\n",
       " 'ContentLength': 332269,\n",
       " 'ETag': '\"e04e8c567f9a188bb064608f007273e9\"',\n",
       " 'ContentType': 'image/jpeg',\n",
       " 'Metadata': {},\n",
       " 'Body': <botocore.response.StreamingBody at 0x7f75a6a47a50>}"
      ]
     },
     "execution_count": 2,
     "metadata": {},
     "output_type": "execute_result"
    }
   ],
   "source": [
    "file_name = '0006-0044.png'\n",
    "#file_name = 'test12/annotations/consolidated-annotation/consolidation-request/iteration-1/2022-02-10_04:51:40.json'\n",
    "s3_clientobj = client.get_object(Bucket='label-test3', Key=file_name)\n",
    "s3_clientobj"
   ]
  },
  {
   "cell_type": "code",
   "execution_count": 3,
   "metadata": {},
   "outputs": [
    {
     "data": {
      "text/plain": [
       "<matplotlib.image.AxesImage at 0x7f75a6900210>"
      ]
     },
     "execution_count": 3,
     "metadata": {},
     "output_type": "execute_result"
    },
    {
     "data": {
      "image/png": "[encoded data removed]",
      "text/plain": [
       "<Figure size 432x288 with 1 Axes>"
      ]
     },
     "metadata": {
      "needs_background": "light"
     },
     "output_type": "display_data"
    }
   ],
   "source": [
    "from io import BytesIO\n",
    "image = mpimg.imread(BytesIO(s3_clientobj['Body'].read()), 'jp2')\n",
    "\n",
    "plt.figure(0)\n",
    "plt.imshow(image)\n"
   ]
  },
  {
   "cell_type": "markdown",
   "metadata": {},
   "source": [
    "## for each image return the bounding boxes\n",
    "1. Update input.json \n",
    "\n",
    "https://aws.amazon.com/blogs/machine-learning/streamlining-data-labeling-for-yolo-object-detection-in-amazon-sagemaker-ground-truth/"
   ]
  },
  {
   "cell_type": "markdown",
   "metadata": {},
   "source": [
    "2. Create a csv with each image and annotation"
   ]
  },
  {
   "cell_type": "code",
   "execution_count": 32,
   "metadata": {},
   "outputs": [
    {
     "name": "stdout",
     "output_type": "stream",
     "text": [
      "\u001b[22;0t\u001b]0;IPython: /root\u0007"
     ]
    }
   ],
   "source": [
    "!ipython parse_annot.py s3://label-test3/test12/manifests/output/output.manifest test12\n"
   ]
  },
  {
   "cell_type": "markdown",
   "metadata": {},
   "source": [
    "3. Get bounding boxes for each image"
   ]
  },
  {
   "cell_type": "code",
   "execution_count": 48,
   "metadata": {},
   "outputs": [
    {
     "data": {
      "text/html": [
       "<div>\n",
       "<style scoped>\n",
       "    .dataframe tbody tr th:only-of-type {\n",
       "        vertical-align: middle;\n",
       "    }\n",
       "\n",
       "    .dataframe tbody tr th {\n",
       "        vertical-align: top;\n",
       "    }\n",
       "\n",
       "    .dataframe thead th {\n",
       "        text-align: right;\n",
       "    }\n",
       "</style>\n",
       "<table border=\"1\" class=\"dataframe\">\n",
       "  <thead>\n",
       "    <tr style=\"text-align: right;\">\n",
       "      <th></th>\n",
       "      <th>img_file</th>\n",
       "      <th>category</th>\n",
       "      <th>box_left</th>\n",
       "      <th>box_top</th>\n",
       "      <th>box_height</th>\n",
       "      <th>box_width</th>\n",
       "      <th>img_width</th>\n",
       "      <th>img_height</th>\n",
       "    </tr>\n",
       "  </thead>\n",
       "  <tbody>\n",
       "    <tr>\n",
       "      <th>0</th>\n",
       "      <td>0141-0009.png</td>\n",
       "      <td>Overlapping text</td>\n",
       "      <td>705</td>\n",
       "      <td>416</td>\n",
       "      <td>166</td>\n",
       "      <td>186</td>\n",
       "      <td>1000</td>\n",
       "      <td>1000</td>\n",
       "    </tr>\n",
       "    <tr>\n",
       "      <th>1</th>\n",
       "      <td>0141-0014.png</td>\n",
       "      <td>Overlapping text</td>\n",
       "      <td>523</td>\n",
       "      <td>208</td>\n",
       "      <td>126</td>\n",
       "      <td>124</td>\n",
       "      <td>1000</td>\n",
       "      <td>1000</td>\n",
       "    </tr>\n",
       "  </tbody>\n",
       "</table>\n",
       "</div>"
      ],
      "text/plain": [
       "        img_file          category  box_left  box_top  box_height  box_width  \\\n",
       "0  0141-0009.png  Overlapping text       705      416         166        186   \n",
       "1  0141-0014.png  Overlapping text       523      208         126        124   \n",
       "\n",
       "   img_width  img_height  \n",
       "0       1000        1000  \n",
       "1       1000        1000  "
      ]
     },
     "execution_count": 48,
     "metadata": {},
     "output_type": "execute_result"
    }
   ],
   "source": [
    "# grab csv from S3 into memory\n",
    "file_key = \"test12/annot.csv\"\n",
    "annot_file = 's3://{}/{}'.format(bucket, file_key)\n",
    "# df_ann = pd.read_csv(s3uri)\n",
    "# df_ann.head()"
   ]
  },
  {
   "cell_type": "code",
   "execution_count": 49,
   "metadata": {},
   "outputs": [],
   "source": [
    "def annot_rcnn(annot_file, cats):\n",
    "    \"\"\"\n",
    "    Prepares the annotation in RCNN format\n",
    "\n",
    "    Input:\n",
    "    annot_file: csv file containing Ground Truth annotations\n",
    "    ordered_cats: List of object categories in proper order for model training\n",
    "\n",
    "    Returns:\n",
    "    df_ann: pandas dataframe with the following columns\n",
    "            img_file int_category box_top box_bottom box_left box_right\n",
    "\n",
    "    \"\"\"\n",
    "\n",
    "    df_ann = pd.read_csv(annot_file)\n",
    "\n",
    "    df_ann[\"int_category\"] = df_ann[\"category\"].apply(lambda x: cats.index(x))\n",
    "    df_ann[\"xmin\"] = df_ann[\"box_top\"]\n",
    "    df_ann[\"xmax\"] = df_ann[\"box_top\"] + df_ann[\"box_height\"]\n",
    "    df_ann[\"ymin\"] = df_ann[\"box_left\"]\n",
    "    df_ann[\"ymax\"] = df_ann[\"box_left\"] + df_ann[\"box_width\"]\n",
    "    \n",
    "\n",
    "    return df_ann"
   ]
  },
  {
   "cell_type": "code",
   "execution_count": 57,
   "metadata": {},
   "outputs": [
    {
     "data": {
      "text/html": [
       "<div>\n",
       "<style scoped>\n",
       "    .dataframe tbody tr th:only-of-type {\n",
       "        vertical-align: middle;\n",
       "    }\n",
       "\n",
       "    .dataframe tbody tr th {\n",
       "        vertical-align: top;\n",
       "    }\n",
       "\n",
       "    .dataframe thead th {\n",
       "        text-align: right;\n",
       "    }\n",
       "</style>\n",
       "<table border=\"1\" class=\"dataframe\">\n",
       "  <thead>\n",
       "    <tr style=\"text-align: right;\">\n",
       "      <th></th>\n",
       "      <th>img_file</th>\n",
       "      <th>category</th>\n",
       "      <th>box_left</th>\n",
       "      <th>box_top</th>\n",
       "      <th>box_height</th>\n",
       "      <th>box_width</th>\n",
       "      <th>img_width</th>\n",
       "      <th>img_height</th>\n",
       "      <th>int_category</th>\n",
       "      <th>xmin</th>\n",
       "      <th>xmax</th>\n",
       "      <th>ymin</th>\n",
       "      <th>ymax</th>\n",
       "    </tr>\n",
       "  </thead>\n",
       "  <tbody>\n",
       "    <tr>\n",
       "      <th>0</th>\n",
       "      <td>0141-0009.png</td>\n",
       "      <td>Overlapping text</td>\n",
       "      <td>705</td>\n",
       "      <td>416</td>\n",
       "      <td>166</td>\n",
       "      <td>186</td>\n",
       "      <td>1000</td>\n",
       "      <td>1000</td>\n",
       "      <td>0</td>\n",
       "      <td>416</td>\n",
       "      <td>582</td>\n",
       "      <td>705</td>\n",
       "      <td>891</td>\n",
       "    </tr>\n",
       "    <tr>\n",
       "      <th>1</th>\n",
       "      <td>0141-0014.png</td>\n",
       "      <td>Overlapping text</td>\n",
       "      <td>523</td>\n",
       "      <td>208</td>\n",
       "      <td>126</td>\n",
       "      <td>124</td>\n",
       "      <td>1000</td>\n",
       "      <td>1000</td>\n",
       "      <td>0</td>\n",
       "      <td>208</td>\n",
       "      <td>334</td>\n",
       "      <td>523</td>\n",
       "      <td>647</td>\n",
       "    </tr>\n",
       "  </tbody>\n",
       "</table>\n",
       "</div>"
      ],
      "text/plain": [
       "        img_file          category  box_left  box_top  box_height  box_width  \\\n",
       "0  0141-0009.png  Overlapping text       705      416         166        186   \n",
       "1  0141-0014.png  Overlapping text       523      208         126        124   \n",
       "\n",
       "   img_width  img_height  int_category  xmin  xmax  ymin  ymax  \n",
       "0       1000        1000             0   416   582   705   891  \n",
       "1       1000        1000             0   208   334   523   647  "
      ]
     },
     "execution_count": 57,
     "metadata": {},
     "output_type": "execute_result"
    }
   ],
   "source": [
    "df_ann = annot_rcnn(annot_file, \"Overlapping text\")\n",
    "df_ann.head()"
   ]
  },
  {
   "cell_type": "markdown",
   "metadata": {},
   "source": [
    "## View the bounding box on the annotated original image\n"
   ]
  },
  {
   "cell_type": "code",
   "execution_count": 64,
   "metadata": {},
   "outputs": [],
   "source": [
    "\n",
    "import skimage.io\n",
    "import matplotlib.pyplot, matplotlib.patches\n",
    "\n",
    "def extract_boxes(img_file):\n",
    "    \n",
    "    '''filter the dataframe to a single image return all bounding boxes \n",
    "    if the filtered dataframe is empty return '''\n",
    "   \n",
    "    boxes = list()\n",
    "\n",
    "    fil_df = df_ann[df_ann['img_file'] == img_file]\n",
    "    fil_df = fil_df.reset_index()  # make sure indexes pair with number of rows\n",
    "\n",
    "    if len(fil_df) == 0:\n",
    "        boxes.append([0,0,0,0])\n",
    "        return boxes\n",
    "    else:\n",
    "        for index, row in fil_df.iterrows():\n",
    "            xmin = int(fil_df['xmin'])\n",
    "            ymin = int(fil_df['ymin'])\n",
    "            xmax = int(fil_df['xmax'])\n",
    "            ymax = int(fil_df['ymax'])\n",
    "            \n",
    "            coors = [xmin, ymin, xmax, ymax]\n",
    "            boxes.append(coors)\n",
    "        return boxes\n"
   ]
  },
  {
   "cell_type": "code",
   "execution_count": 65,
   "metadata": {},
   "outputs": [
    {
     "data": {
      "text/plain": [
       "[[416, 705, 582, 891]]"
      ]
     },
     "execution_count": 65,
     "metadata": {},
     "output_type": "execute_result"
    }
   ],
   "source": [
    "img_file =\"0141-0009.png\"\n"
   ]
  },
  {
   "cell_type": "code",
   "execution_count": 67,
   "metadata": {},
   "outputs": [
    {
     "name": "stdout",
     "output_type": "stream",
     "text": [
      "There are 1 objects in the image.\n",
      "BBoxes: [[416, 705, 582, 891]]\n",
      "\n"
     ]
    },
    {
     "data": {
      "image/png": "[encoded data removed]",
      "text/plain": [
       "<Figure size 432x288 with 1 Axes>"
      ]
     },
     "metadata": {
      "needs_background": "light"
     },
     "output_type": "display_data"
    }
   ],
   "source": [
    "#img = skimage.io.imread(\"./images/\" + im_name + \".jpg\")\n",
    "s3_clientobj = client.get_object(Bucket='label-test3', Key=img_file)\n",
    "\n",
    "img = mpimg.imread(BytesIO(s3_clientobj['Body'].read()), 'jp2')\n",
    "\n",
    "boxes = extract_boxes(img_file)\n",
    "print(\"There are {count} objects in the image.\".format(count=len(boxes)))\n",
    "print(\"BBoxes:\", boxes, end=\"\\n\\n\")\n",
    "\n",
    "fig, ax = matplotlib.pyplot.subplots()\n",
    "ax.imshow(img)\n",
    "\n",
    "for box_idx in range(len(boxes)):\n",
    "    rect = matplotlib.patches.Rectangle((boxes[box_idx][0], boxes[box_idx][1]), \n",
    "                                        boxes[box_idx][2]-boxes[box_idx][0],\n",
    "                                        boxes[box_idx][3]-boxes[box_idx][1], \n",
    "                                        linewidth=5, \n",
    "                                        edgecolor='r', \n",
    "                                        facecolor='none')\n",
    "    ax.add_patch(rect)\n",
    "\n",
    "matplotlib.pyplot.show()"
   ]
  },
  {
   "cell_type": "code",
   "execution_count": null,
   "metadata": {},
   "outputs": [],
   "source": []
  }
 ],
 "metadata": {
  "instance_type": "ml.t3.medium",
  "kernelspec": {
   "display_name": "Python 3 (Data Science)",
   "language": "python",
   "name": "python3__SAGEMAKER_INTERNAL__arn:aws:sagemaker:us-east-1:081325390199:image/datascience-1.0"
  },
  "language_info": {
   "codemirror_mode": {
    "name": "ipython",
    "version": 3
   },
   "file_extension": ".py",
   "mimetype": "text/x-python",
   "name": "python",
   "nbconvert_exporter": "python",
   "pygments_lexer": "ipython3",
   "version": "3.7.10"
  }
 },
 "nbformat": 4,
 "nbformat_minor": 4
}
