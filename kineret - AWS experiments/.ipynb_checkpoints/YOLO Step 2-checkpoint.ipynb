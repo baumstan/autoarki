{
 "cells": [
  {
   "cell_type": "markdown",
   "metadata": {},
   "source": [
    "# Import custom images and annotations"
   ]
  },
  {
   "cell_type": "code",
   "execution_count": 29,
   "metadata": {},
   "outputs": [],
   "source": [
    "import matplotlib.pyplot as plt\n",
    "import matplotlib.image as mpimg\n",
    "import numpy as np\n",
    "import boto3\n",
    "import io\n",
    "import pandas as pd\n",
    "import json\n",
    "\n",
    "my_bucket = 'autoarki-ground-truth-labeling'\n",
    "client = boto3.client('s3')\n",
    "response = client.list_objects_v2(Bucket=bucket)\n"
   ]
  },
  {
   "cell_type": "markdown",
   "metadata": {},
   "source": [
    "## Gather list of annotated and non-annotated files"
   ]
  },
  {
   "cell_type": "code",
   "execution_count": 27,
   "metadata": {},
   "outputs": [],
   "source": [
    "# list of all annotated files\n",
    "bucket = 'autoarki-ground-truth-labeling'\n",
    "dest = \"bounding_box/ground_truth_annots/yolo-bbox-train\"\n",
    "file_key = \"annot.csv\"\n",
    "annot_file = 's3://{}/{}/{}'.format(bucket, dest, file_key)\n",
    "df_ann = pd.read_csv(annot_file)\n",
    "\n",
    "annotated_img_list = list(df_ann.img_file.unique())"
   ]
  },
  {
   "cell_type": "code",
   "execution_count": 45,
   "metadata": {},
   "outputs": [],
   "source": [
    "# list of all files that were reviewed in annotation job\n",
    "import s3fs\n",
    "\n",
    "reviewed_img_list = []\n",
    "\n",
    "mani_path = \"s3://autoarki-ground-truth-labeling/bounding_box/ground_truth_annots/yolo-bbox-train/manifests/output.manifest\"\n",
    "job_name = 'yolo-bbox-train'\n",
    "\n",
    "fs = s3fs.S3FileSystem(anon=False)\n",
    "with fs.open(mani_path, 'rb') as fin:    \n",
    "    annot_list = []\n",
    "\n",
    "    for line in fin.readlines():\n",
    "        record = json.loads(line)\n",
    "        if job_name in record.keys():  # is it necessary?\n",
    "            image_file_path = record[\"source-ref\"]\n",
    "            image_file_name = image_file_path.split(\"/\")[-1]\n",
    "            reviewed_img_list.append(image_file_name)\n",
    "            "
   ]
  },
  {
   "cell_type": "code",
   "execution_count": 49,
   "metadata": {},
   "outputs": [
    {
     "name": "stdout",
     "output_type": "stream",
     "text": [
      "Number of reviewed files:  4206\n",
      "Number of annotated files:  140\n"
     ]
    }
   ],
   "source": [
    "print(\"Number of reviewed files: \", len(reviewed_img_list))\n",
    "print(\"Number of annotated files: \", len(annotated_img_list))"
   ]
  },
  {
   "cell_type": "markdown",
   "metadata": {},
   "source": [
    "## Class Balance"
   ]
  },
  {
   "cell_type": "code",
   "execution_count": 50,
   "metadata": {},
   "outputs": [
    {
     "name": "stdout",
     "output_type": "stream",
     "text": [
      "Number of non-annotated but reviewed files:  4066\n"
     ]
    }
   ],
   "source": [
    "# remove all annotated files from list\n",
    "non_annot_review_list = [x for x in reviewed_img_list if x not in annotated_img_list]\n",
    "print(\"Number of non-annotated but reviewed files: \", len(non_annot_review_list))"
   ]
  },
  {
   "cell_type": "code",
   "execution_count": 55,
   "metadata": {},
   "outputs": [],
   "source": [
    "# select 125% of the annotated files \n",
    "\n",
    "import random\n",
    "seed = 123\n",
    "random.Random(seed).shuffle(non_annot_review_list)\n",
    "\n",
    "num_non_annotated = round(len(annotated_img_list)*1.25)\n",
    "\n",
    "non_ann_to_use_list = non_annot_review_list[:num_non_annotated]"
   ]
  },
  {
   "cell_type": "markdown",
   "metadata": {},
   "source": [
    "## Split into Train and Test"
   ]
  },
  {
   "cell_type": "code",
   "execution_count": 84,
   "metadata": {},
   "outputs": [],
   "source": [
    "\n",
    "\n",
    "\n",
    "# split 80/20\n",
    "train_pct = .8\n",
    "\n",
    "split_1 = int(train_pct * len(list_imgs))\n",
    "\n",
    "train_filenames = list_imgs[ :split_1]\n",
    "val_filenames = list_imgs[split_1: ]\n"
   ]
  },
  {
   "cell_type": "code",
   "execution_count": 95,
   "metadata": {},
   "outputs": [
    {
     "name": "stdout",
     "output_type": "stream",
     "text": [
      "s3://label-test3/train/raw_images/0029-0147.png\n",
      "s3://label-test3/train/raw_images/0157-1224.png\n",
      "s3://label-test3/train/raw_images/0018-0053.png\n",
      "s3://label-test3/train/raw_images/0029-0128.png\n",
      "s3://label-test3/train/raw_images/0010-0044.png\n",
      "s3://label-test3/train/raw_images/0022-0045.png\n",
      "s3://label-test3/train/raw_images/0010-0053.png\n",
      "s3://label-test3/train/raw_images/0011-0043.png\n",
      "s3://label-test3/train/raw_images/0029-0144.png\n",
      "s3://label-test3/train/raw_images/0006-0053.png\n",
      "s3://label-test3/train/raw_images/0060-0074.png\n",
      "s3://label-test3/train/raw_images/0018-0045.png\n",
      "s3://label-test3/train/raw_images/0025-0044.png\n",
      "s3://label-test3/train/raw_images/0193-0025.png\n",
      "s3://label-test3/train/raw_images/0010-0045.png\n",
      "s3://label-test3/train/raw_images/0025-0043.png\n",
      "s3://label-test3/train/raw_images/0141-0009.png\n",
      "s3://label-test3/train/raw_images/0193-0028.png\n",
      "s3://label-test3/train/raw_images/0011-0053.png\n",
      "s3://label-test3/train/raw_images/0141-0014.png\n",
      "s3://label-test3/train/raw_images/0025-0045.png\n",
      "s3://label-test3/train/raw_images/0029-0371.png\n",
      "s3://label-test3/train/raw_images/0022-0053.png\n",
      "s3://label-test3/train/raw_images/0006-0045.png\n"
     ]
    }
   ],
   "source": [
    "# create subdirectories and move files\n",
    "len_filenames = len(\"_filenames\")\n",
    "s3_resource = boto3.resource('s3')\n",
    "\n",
    "def move_to_new_directories(list_files, file_subdir = \"train\"):\n",
    "    for file_name in list_files:\n",
    "        new_dir = \"s3://label-test3/\" + file_subdir + '/raw_images/' + file_name\n",
    "        old_dir = \"s3://label-test3/\" + file_name\n",
    "        print(new_dir)\n",
    "        #s3_resource.Object(bucket, new_dir).copy_from(CopySource=old_dir)\n",
    "\n",
    "move_to_new_directories(train_filenames, \"train\")\n",
    "#move_to_new_directories(val_filenames, \"val\")\n",
    "# Delete the former object A\n",
    "#client.Object(bucket, “path/to/your/object_A.txt”).delete()"
   ]
  },
  {
   "cell_type": "code",
   "execution_count": 75,
   "metadata": {},
   "outputs": [],
   "source": [
    "class KangarooDataset(mrcnn.utils.Dataset):\n",
    "\n",
    "    def load_dataset(self, dataset_dir, is_train=True):\n",
    "        self.add_class(\"dataset\", 1, \"Overlappng Text\")\n",
    "\n",
    "        images_dir = dataset_dir + '/images/'\n",
    "        annotations_dir = dataset_dir + '/annots/'\n",
    "\n",
    "        for filename in os.listdir(images_dir):\n",
    "            image_id = filename[:-4]\n",
    "\n",
    "            if is_train and int(image_id) >= 150:\n",
    "                continue\n",
    "\n",
    "            if not is_train and int(image_id) < 150:\n",
    "                continue\n",
    "\n",
    "            img_path = images_dir + filename\n",
    "            ann_path = annotations_dir + image_id + '.xml'\n",
    "\n",
    "            self.add_image('dataset', image_id=image_id, path=img_path, annotation=ann_path)\n",
    "\n",
    "    def load_mask(self, image_id):\n",
    "        info = self.image_info[image_id]\n",
    "        path = info['annotation']\n",
    "        boxes, w, h = self.extract_boxes(path)\n",
    "        masks = zeros([h, w, len(boxes)], dtype='uint8')\n",
    "\n",
    "        class_ids = list()\n",
    "        for i in range(len(boxes)):\n",
    "            box = boxes[i]\n",
    "            row_s, row_e = box[1], box[3]\n",
    "            col_s, col_e = box[0], box[2]\n",
    "            masks[row_s:row_e, col_s:col_e, i] = 1\n",
    "            class_ids.append(self.class_names.index('kangaroo'))\n",
    "        return masks, asarray(class_ids, dtype='int32')\n",
    "\n",
    "    # A helper method to extract the bounding boxes from the annotation file\n",
    "    def extract_boxes(self, filename):\n",
    "        tree = xml.etree.ElementTree.parse(filename)\n",
    "\n",
    "        root = tree.getroot()\n",
    "\n",
    "        boxes = list()\n",
    "        for box in root.findall('.//bndbox'):\n",
    "            xmin = int(box.find('xmin').text)\n",
    "            ymin = int(box.find('ymin').text)\n",
    "            xmax = int(box.find('xmax').text)\n",
    "            ymax = int(box.find('ymax').text)\n",
    "            coors = [xmin, ymin, xmax, ymax]\n",
    "            boxes.append(coors)\n",
    "\n",
    "        width = int(root.find('.//size/width').text)\n",
    "        height = int(root.find('.//size/height').text)\n",
    "        return boxes, width, height"
   ]
  },
  {
   "cell_type": "code",
   "execution_count": null,
   "metadata": {},
   "outputs": [],
   "source": [
    "# Train\n",
    "train_dataset = KangarooDataset()\n",
    "train_dataset.load_dataset(dataset_dir='./kangaroo-transfer-learning/kangaroo', is_train=True)\n",
    "train_dataset.prepare()\n",
    "\n",
    "# Validation\n",
    "validation_dataset = KangarooDataset()\n",
    "validation_dataset.load_dataset(dataset_dir='./kangaroo-transfer-learning/kangaroo', is_train=False)\n",
    "validation_dataset.prepare()"
   ]
  },
  {
   "cell_type": "code",
   "execution_count": null,
   "metadata": {},
   "outputs": [],
   "source": [
    "class KangarooConfig(mrcnn.config.Config):\n",
    "    NAME = \"kangaroo_cfg\"\n",
    "\n",
    "    GPU_COUNT = 1\n",
    "    IMAGES_PER_GPU = 1\n",
    "    \n",
    "    NUM_CLASSES = 2\n",
    "    \n",
    "    LEARNING_RATE = 0.001\n",
    "\n",
    "    STEPS_PER_EPOCH = 131"
   ]
  },
  {
   "cell_type": "code",
   "execution_count": null,
   "metadata": {},
   "outputs": [],
   "source": []
  },
  {
   "cell_type": "code",
   "execution_count": null,
   "metadata": {},
   "outputs": [],
   "source": []
  }
 ],
 "metadata": {
  "instance_type": "ml.t3.medium",
  "kernelspec": {
   "display_name": "Python 3 (Data Science)",
   "language": "python",
   "name": "python3__SAGEMAKER_INTERNAL__arn:aws:sagemaker:us-west-2:236514542706:image/datascience-1.0"
  },
  "language_info": {
   "codemirror_mode": {
    "name": "ipython",
    "version": 3
   },
   "file_extension": ".py",
   "mimetype": "text/x-python",
   "name": "python",
   "nbconvert_exporter": "python",
   "pygments_lexer": "ipython3",
   "version": "3.7.10"
  }
 },
 "nbformat": 4,
 "nbformat_minor": 4
}
