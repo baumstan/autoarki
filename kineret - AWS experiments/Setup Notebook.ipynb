{
 "cells": [
  {
   "cell_type": "code",
   "execution_count": 22,
   "metadata": {},
   "outputs": [],
   "source": [
    "import boto3\n",
    "from IPython.display import Image, display\n"
   ]
  },
  {
   "cell_type": "code",
   "execution_count": 36,
   "metadata": {},
   "outputs": [
    {
     "name": "stdout",
     "output_type": "stream",
     "text": [
      "0006-0044.png\n",
      "0006-0045.png\n",
      "0006-0053.png\n",
      "0010-0043.png\n",
      "0010-0044.png\n",
      "0010-0045.png\n",
      "0010-0053.png\n",
      "0011-0043.png\n",
      "0011-0044.png\n",
      "0011-0045.png\n",
      "0011-0053.png\n",
      "0018-0045.png\n",
      "0018-0053.png\n",
      "0022-0045.png\n",
      "0022-0053.png\n",
      "0025-0043.png\n",
      "0025-0044.png\n",
      "0025-0045.png\n",
      "0029-0106.png\n",
      "0029-0128.png\n",
      "0029-0144.png\n",
      "0029-0147.png\n",
      "0029-0164.png\n",
      "0029-0371.png\n",
      "0060-0074.png\n",
      "0131-0299.png\n",
      "0141-0009.png\n",
      "0141-0014.png\n",
      "0157-1224.png\n",
      "0193-0025.png\n",
      "0193-0028.png\n",
      "dataset-20220209T203326.manifest\n",
      "index/groundtruth_37Dg_fqKXn4WTUI9fh1qbSYxUX.7r7B3lmwq8P4JXD4.l6lP4fyawMaicvgKkIa8OOJcJocD6Y9CS1Tz3okLNiiGsNcTE.EezPI68RPB1dcuo0M67oFPyzwKpZlomX5waNL3M9McFvR5lezNajAcig--_etags_do_not_modify.tmp\n",
      "index/groundtruth_a7z.DIgtNFENZY2RrLos2.wbEYds6TvaLR4egw.LmSh64btE4AELDCSe.2heOsmrVoeBNnINtl41Pp0yqBMk7Q--_etags_do_not_modify.tmp\n",
      "index/groundtruth_aW17Hnje91ZQ1e5LjGP0hb5BF40Jay0Fdg4YP1uL3Ql5Oal_AI0y3owJzM5ImKkB0fH4N02cFhfdB1e0HXRpOnz.NcN6uS285D2UZRZvzL6M6jIkrdCEHJHZkjDVh4NIK8Yn65Cah_3aFbGOfMeuKg--_etags_do_not_modify.tmp\n",
      "null/test12/temp/service-use.tmp\n",
      "test12/annotation-tool/data.json\n",
      "test12/annotation-tool/template.liquid\n",
      "test12/annotations/consolidated-annotation/consolidation-request/iteration-1/2022-02-10_04:51:40.json\n",
      "test12/annotations/consolidated-annotation/consolidation-request/iteration-1/2022-02-10_04:52:50.json\n",
      "test12/annotations/consolidated-annotation/consolidation-request/iteration-1/2022-02-10_04:54:03.json\n",
      "test12/annotations/consolidated-annotation/consolidation-request/iteration-1/2022-02-10_04:55:20.json\n",
      "test12/annotations/consolidated-annotation/consolidation-response/iteration-1/2022-02-10_04:51:40.json\n",
      "test12/annotations/consolidated-annotation/consolidation-response/iteration-1/2022-02-10_04:52:50.json\n",
      "test12/annotations/consolidated-annotation/consolidation-response/iteration-1/2022-02-10_04:54:04.json\n",
      "test12/annotations/consolidated-annotation/consolidation-response/iteration-1/2022-02-10_04:55:20.json\n",
      "test12/annotations/worker-response/iteration-1/0/2022-02-10_04:53:57.json\n",
      "test12/annotations/worker-response/iteration-1/1/2022-02-10_04:55:13.json\n",
      "test12/annotations/worker-response/iteration-1/10/2022-02-10_04:53:56.json\n",
      "test12/annotations/worker-response/iteration-1/11/2022-02-10_04:54:00.json\n",
      "test12/annotations/worker-response/iteration-1/12/2022-02-10_04:52:45.json\n",
      "test12/annotations/worker-response/iteration-1/13/2022-02-10_04:51:29.json\n",
      "test12/annotations/worker-response/iteration-1/14/2022-02-10_04:53:58.json\n",
      "test12/annotations/worker-response/iteration-1/15/2022-02-10_04:55:15.json\n",
      "test12/annotations/worker-response/iteration-1/16/2022-02-10_04:55:14.json\n",
      "test12/annotations/worker-response/iteration-1/17/2022-02-10_04:51:37.json\n",
      "test12/annotations/worker-response/iteration-1/18/2022-02-10_04:53:56.json\n",
      "test12/annotations/worker-response/iteration-1/19/2022-02-10_04:52:44.json\n",
      "test12/annotations/worker-response/iteration-1/2/2022-02-10_04:51:38.json\n",
      "test12/annotations/worker-response/iteration-1/20/2022-02-10_04:52:47.json\n",
      "test12/annotations/worker-response/iteration-1/21/2022-02-10_04:55:14.json\n",
      "test12/annotations/worker-response/iteration-1/22/2022-02-10_04:53:58.json\n",
      "test12/annotations/worker-response/iteration-1/23/2022-02-10_04:52:48.json\n",
      "test12/annotations/worker-response/iteration-1/24/2022-02-10_04:52:46.json\n",
      "test12/annotations/worker-response/iteration-1/25/2022-02-10_04:55:17.json\n",
      "test12/annotations/worker-response/iteration-1/26/2022-02-10_04:55:15.json\n",
      "test12/annotations/worker-response/iteration-1/27/2022-02-10_04:51:38.json\n",
      "test12/annotations/worker-response/iteration-1/28/2022-02-10_04:52:46.json\n",
      "test12/annotations/worker-response/iteration-1/29/2022-02-10_04:52:46.json\n",
      "test12/annotations/worker-response/iteration-1/3/2022-02-10_04:53:55.json\n",
      "test12/annotations/worker-response/iteration-1/30/2022-02-10_04:53:58.json\n",
      "test12/annotations/worker-response/iteration-1/4/2022-02-10_04:52:45.json\n",
      "test12/annotations/worker-response/iteration-1/5/2022-02-10_04:52:47.json\n",
      "test12/annotations/worker-response/iteration-1/6/2022-02-10_04:55:14.json\n",
      "test12/annotations/worker-response/iteration-1/7/2022-02-10_04:52:45.json\n",
      "test12/annotations/worker-response/iteration-1/8/2022-02-10_04:53:57.json\n",
      "test12/annotations/worker-response/iteration-1/9/2022-02-10_04:52:48.json\n",
      "test12/manifests/intermediate/1/output.manifest\n",
      "test12/manifests/output/output.manifest\n"
     ]
    }
   ],
   "source": [
    "# get all keys from inside the s3 bucket\n",
    "client = boto3.client('s3')\n",
    "bucket = 'label-test3'\n",
    "response = client.list_objects_v2(Bucket=bucket)\n",
    "for content in response.get('Contents', []):\n",
    "    print(content['Key'])"
   ]
  },
  {
   "cell_type": "code",
   "execution_count": null,
   "metadata": {},
   "outputs": [],
   "source": []
  },
  {
   "cell_type": "code",
   "execution_count": 60,
   "metadata": {},
   "outputs": [],
   "source": [
    "#file_name = '0006-0044.png'\n",
    "#file_name = 'test12/annotations/consolidated-annotation/consolidation-request/iteration-1/2022-02-10_04:51:40.json'\n",
    "file_name = 'test12/manifests/output/output.manifest'\n",
    "s3_clientobj = client.get_object(Bucket='label-test3', Key=file_name)\n"
   ]
  },
  {
   "cell_type": "code",
   "execution_count": 61,
   "metadata": {},
   "outputs": [
    {
     "data": {
      "text/plain": [
       "<botocore.response.StreamingBody at 0x7f8482734b90>"
      ]
     },
     "execution_count": 61,
     "metadata": {},
     "output_type": "execute_result"
    }
   ],
   "source": [
    "s3_clientobj['Body']"
   ]
  },
  {
   "cell_type": "code",
   "execution_count": 63,
   "metadata": {},
   "outputs": [
    {
     "data": {
      "text/plain": [
       "{'ResponseMetadata': {'RequestId': 'K2HWDH4KS9A969P1',\n",
       "  'HostId': 'pW9LynReQ45mO8CwVlG4NQd/QC9PFXqRNReU4446QDSWb9zG78zBgj/lDlcDz1i7IaHHcbF87xg=',\n",
       "  'HTTPStatusCode': 200,\n",
       "  'HTTPHeaders': {'x-amz-id-2': 'pW9LynReQ45mO8CwVlG4NQd/QC9PFXqRNReU4446QDSWb9zG78zBgj/lDlcDz1i7IaHHcbF87xg=',\n",
       "   'x-amz-request-id': 'K2HWDH4KS9A969P1',\n",
       "   'date': 'Wed, 16 Feb 2022 04:02:21 GMT',\n",
       "   'last-modified': 'Thu, 10 Feb 2022 04:58:10 GMT',\n",
       "   'etag': '\"18f7faab7e6137077e1601380cb769e7-1\"',\n",
       "   'x-amz-server-side-encryption': 'aws:kms',\n",
       "   'x-amz-server-side-encryption-aws-kms-key-id': 'arn:aws:kms:us-east-1:499772623536:key/35e8cc00-9265-42a2-a022-f28b236c7e1b',\n",
       "   'accept-ranges': 'bytes',\n",
       "   'content-type': 'application/octet-stream',\n",
       "   'server': 'AmazonS3',\n",
       "   'content-length': '10050'},\n",
       "  'RetryAttempts': 0},\n",
       " 'AcceptRanges': 'bytes',\n",
       " 'LastModified': datetime.datetime(2022, 2, 10, 4, 58, 10, tzinfo=tzutc()),\n",
       " 'ContentLength': 10050,\n",
       " 'ETag': '\"18f7faab7e6137077e1601380cb769e7-1\"',\n",
       " 'ContentType': 'application/octet-stream',\n",
       " 'ServerSideEncryption': 'aws:kms',\n",
       " 'Metadata': {},\n",
       " 'SSEKMSKeyId': 'arn:aws:kms:us-east-1:499772623536:key/35e8cc00-9265-42a2-a022-f28b236c7e1b',\n",
       " 'Body': <botocore.response.StreamingBody at 0x7f8482734b90>}"
      ]
     },
     "execution_count": 63,
     "metadata": {},
     "output_type": "execute_result"
    }
   ],
   "source": [
    "s3_clientobj"
   ]
  },
  {
   "cell_type": "code",
   "execution_count": 62,
   "metadata": {},
   "outputs": [
    {
     "ename": "JSONDecodeError",
     "evalue": "Extra data: line 2 column 1 (char 317)",
     "output_type": "error",
     "traceback": [
      "\u001b[0;31m---------------------------------------------------------------------------\u001b[0m",
      "\u001b[0;31mJSONDecodeError\u001b[0m                           Traceback (most recent call last)",
      "\u001b[0;32m<ipython-input-62-77d281835fc6>\u001b[0m in \u001b[0;36m<module>\u001b[0;34m\u001b[0m\n\u001b[1;32m      1\u001b[0m \u001b[0;32mimport\u001b[0m \u001b[0mjson\u001b[0m\u001b[0;34m\u001b[0m\u001b[0;34m\u001b[0m\u001b[0m\n\u001b[1;32m      2\u001b[0m \u001b[0ms3_clientdata\u001b[0m \u001b[0;34m=\u001b[0m \u001b[0ms3_clientobj\u001b[0m\u001b[0;34m[\u001b[0m\u001b[0;34m'Body'\u001b[0m\u001b[0;34m]\u001b[0m\u001b[0;34m.\u001b[0m\u001b[0mread\u001b[0m\u001b[0;34m(\u001b[0m\u001b[0;34m)\u001b[0m\u001b[0;34m.\u001b[0m\u001b[0mdecode\u001b[0m\u001b[0;34m(\u001b[0m\u001b[0;34m'utf-8'\u001b[0m\u001b[0;34m)\u001b[0m\u001b[0;34m\u001b[0m\u001b[0;34m\u001b[0m\u001b[0m\n\u001b[0;32m----> 3\u001b[0;31m \u001b[0ms3clientlist\u001b[0m\u001b[0;34m=\u001b[0m\u001b[0mjson\u001b[0m\u001b[0;34m.\u001b[0m\u001b[0mloads\u001b[0m\u001b[0;34m(\u001b[0m\u001b[0ms3_clientdata\u001b[0m\u001b[0;34m)\u001b[0m\u001b[0;34m\u001b[0m\u001b[0;34m\u001b[0m\u001b[0m\n\u001b[0m\u001b[1;32m      4\u001b[0m \u001b[0mprint\u001b[0m\u001b[0;34m(\u001b[0m\u001b[0ms3clientlist\u001b[0m\u001b[0;34m)\u001b[0m\u001b[0;34m\u001b[0m\u001b[0;34m\u001b[0m\u001b[0m\n",
      "\u001b[0;32m/opt/conda/lib/python3.7/json/__init__.py\u001b[0m in \u001b[0;36mloads\u001b[0;34m(s, encoding, cls, object_hook, parse_float, parse_int, parse_constant, object_pairs_hook, **kw)\u001b[0m\n\u001b[1;32m    346\u001b[0m             \u001b[0mparse_int\u001b[0m \u001b[0;32mis\u001b[0m \u001b[0;32mNone\u001b[0m \u001b[0;32mand\u001b[0m \u001b[0mparse_float\u001b[0m \u001b[0;32mis\u001b[0m \u001b[0;32mNone\u001b[0m \u001b[0;32mand\u001b[0m\u001b[0;34m\u001b[0m\u001b[0;34m\u001b[0m\u001b[0m\n\u001b[1;32m    347\u001b[0m             parse_constant is None and object_pairs_hook is None and not kw):\n\u001b[0;32m--> 348\u001b[0;31m         \u001b[0;32mreturn\u001b[0m \u001b[0m_default_decoder\u001b[0m\u001b[0;34m.\u001b[0m\u001b[0mdecode\u001b[0m\u001b[0;34m(\u001b[0m\u001b[0ms\u001b[0m\u001b[0;34m)\u001b[0m\u001b[0;34m\u001b[0m\u001b[0;34m\u001b[0m\u001b[0m\n\u001b[0m\u001b[1;32m    349\u001b[0m     \u001b[0;32mif\u001b[0m \u001b[0mcls\u001b[0m \u001b[0;32mis\u001b[0m \u001b[0;32mNone\u001b[0m\u001b[0;34m:\u001b[0m\u001b[0;34m\u001b[0m\u001b[0;34m\u001b[0m\u001b[0m\n\u001b[1;32m    350\u001b[0m         \u001b[0mcls\u001b[0m \u001b[0;34m=\u001b[0m \u001b[0mJSONDecoder\u001b[0m\u001b[0;34m\u001b[0m\u001b[0;34m\u001b[0m\u001b[0m\n",
      "\u001b[0;32m/opt/conda/lib/python3.7/json/decoder.py\u001b[0m in \u001b[0;36mdecode\u001b[0;34m(self, s, _w)\u001b[0m\n\u001b[1;32m    338\u001b[0m         \u001b[0mend\u001b[0m \u001b[0;34m=\u001b[0m \u001b[0m_w\u001b[0m\u001b[0;34m(\u001b[0m\u001b[0ms\u001b[0m\u001b[0;34m,\u001b[0m \u001b[0mend\u001b[0m\u001b[0;34m)\u001b[0m\u001b[0;34m.\u001b[0m\u001b[0mend\u001b[0m\u001b[0;34m(\u001b[0m\u001b[0;34m)\u001b[0m\u001b[0;34m\u001b[0m\u001b[0;34m\u001b[0m\u001b[0m\n\u001b[1;32m    339\u001b[0m         \u001b[0;32mif\u001b[0m \u001b[0mend\u001b[0m \u001b[0;34m!=\u001b[0m \u001b[0mlen\u001b[0m\u001b[0;34m(\u001b[0m\u001b[0ms\u001b[0m\u001b[0;34m)\u001b[0m\u001b[0;34m:\u001b[0m\u001b[0;34m\u001b[0m\u001b[0;34m\u001b[0m\u001b[0m\n\u001b[0;32m--> 340\u001b[0;31m             \u001b[0;32mraise\u001b[0m \u001b[0mJSONDecodeError\u001b[0m\u001b[0;34m(\u001b[0m\u001b[0;34m\"Extra data\"\u001b[0m\u001b[0;34m,\u001b[0m \u001b[0ms\u001b[0m\u001b[0;34m,\u001b[0m \u001b[0mend\u001b[0m\u001b[0;34m)\u001b[0m\u001b[0;34m\u001b[0m\u001b[0;34m\u001b[0m\u001b[0m\n\u001b[0m\u001b[1;32m    341\u001b[0m         \u001b[0;32mreturn\u001b[0m \u001b[0mobj\u001b[0m\u001b[0;34m\u001b[0m\u001b[0;34m\u001b[0m\u001b[0m\n\u001b[1;32m    342\u001b[0m \u001b[0;34m\u001b[0m\u001b[0m\n",
      "\u001b[0;31mJSONDecodeError\u001b[0m: Extra data: line 2 column 1 (char 317)"
     ]
    }
   ],
   "source": [
    "import json\n",
    "s3_clientdata = s3_clientobj['Body'].read().decode('utf-8')\n",
    "s3clientlist=json.loads(s3_clientdata)\n",
    "print(s3clientlist)"
   ]
  },
  {
   "cell_type": "code",
   "execution_count": null,
   "metadata": {},
   "outputs": [],
   "source": []
  }
 ],
 "metadata": {
  "instance_type": "ml.t3.medium",
  "kernelspec": {
   "display_name": "Python 3 (Data Science)",
   "language": "python",
   "name": "python3__SAGEMAKER_INTERNAL__arn:aws:sagemaker:us-east-1:081325390199:image/datascience-1.0"
  },
  "language_info": {
   "codemirror_mode": {
    "name": "ipython",
    "version": 3
   },
   "file_extension": ".py",
   "mimetype": "text/x-python",
   "name": "python",
   "nbconvert_exporter": "python",
   "pygments_lexer": "ipython3",
   "version": "3.7.10"
  }
 },
 "nbformat": 4,
 "nbformat_minor": 4
}
