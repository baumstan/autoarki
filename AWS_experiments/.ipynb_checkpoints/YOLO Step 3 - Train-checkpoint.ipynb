{
 "cells": [
  {
   "cell_type": "markdown",
   "metadata": {},
   "source": [
    "# YOLO Step 3"
   ]
  },
  {
   "cell_type": "code",
   "execution_count": 1,
   "metadata": {},
   "outputs": [],
   "source": [
    "import matplotlib.pyplot as plt\n",
    "import matplotlib.image as mpimg\n",
    "import numpy as np\n",
    "import boto3\n",
    "import io\n",
    "import pandas as pd\n",
    "import json\n",
    "import s3fs\n",
    "import os"
   ]
  },
  {
   "cell_type": "code",
   "execution_count": 2,
   "metadata": {},
   "outputs": [],
   "source": [
    "my_bucket = 'autoarki-ground-truth-labeling'\n",
    "client = boto3.client('s3')\n",
    "response = client.list_objects_v2(Bucket=my_bucket)\n",
    "session = boto3.Session(aws_access_key_id = os.getenv('AWSAccessKeyId'), \n",
    "                        aws_secret_access_key = os.getenv('AWS_SECRET_ACCESS_KEY')) "
   ]
  },
  {
   "cell_type": "code",
   "execution_count": null,
   "metadata": {},
   "outputs": [],
   "source": [
    "# change directory and copy files locally -- only do once\n",
    "\n",
    "!mkdir /home/ec2-user/AutoArki/yolov5/yolov5/training_data\n",
    "os.chdir(\"/home/ec2-user/AutoArki/yolov5/yolov5/training_data\")\n",
    "!aws s3 cp s3://autoarki-ground-truth-labeling/training_data . --recursive\n",
    "\n",
    "!mkdir /home/ec2-user/AutoArki/yolov5/yolov5/test_data\n",
    "os.chdir(\"/home/ec2-user/AutoArki/yolov5/yolov5/test_data\")\n",
    "!aws s3 cp s3://autoarki-ground-truth-labeling/test_data . --recursive\n",
    "; # to hid output of this cell"
   ]
  },
  {
   "cell_type": "markdown",
   "metadata": {},
   "source": [
    "# Learning"
   ]
  },
  {
   "cell_type": "markdown",
   "metadata": {},
   "source": [
    "use smallest YOLO model to start yolov5s.pt"
   ]
  },
  {
   "cell_type": "code",
   "execution_count": 9,
   "metadata": {},
   "outputs": [],
   "source": [
    "import torch\n",
    "import torchvision"
   ]
  },
  {
   "cell_type": "code",
   "execution_count": null,
   "metadata": {},
   "outputs": [],
   "source": [
    "os.chdir(\"/home/ec2-user/AutoArki/yolov5/yolov5/\")\n",
    "!pip install -r requirements.txt  # install"
   ]
  },
  {
   "cell_type": "code",
   "execution_count": null,
   "metadata": {},
   "outputs": [],
   "source": [
    "# first run\n",
    "!python train.py\\\n",
    "    --data custom_dataset.yaml \\\n",
    "    --epochs 75\\\n",
    "    --project custom_yolov5 \\\n",
    "    --bbox_interval 1 \\\n",
    "    --save-period 5 \\\n",
    "    --weights yolov5s.pt "
   ]
  },
  {
   "cell_type": "code",
   "execution_count": 25,
   "metadata": {},
   "outputs": [
    {
     "name": "stdout",
     "output_type": "stream",
     "text": [
      "\u001b[34m\u001b[1mwandb\u001b[0m: (1) Create a W&B account\n",
      "\u001b[34m\u001b[1mwandb\u001b[0m: (2) Use an existing W&B account\n",
      "\u001b[34m\u001b[1mwandb\u001b[0m: (3) Don't visualize my results\n",
      "\u001b[34m\u001b[1mwandb\u001b[0m: Enter your choice: (30 second timeout) \n",
      "\u001b[34m\u001b[1mwandb\u001b[0m: W&B disabled due to login timeout.\n",
      "\u001b[34m\u001b[1mtrain_2: \u001b[0mweights=best.pt, cfg=, data=custom_dataset.yaml, hyp=data/hyps/hyp.scratch-low.yaml, epochs=10, batch_size=16, imgsz=640, rect=False, resume=False, nosave=False, noval=False, noautoanchor=False, evolve=None, bucket=, cache=None, image_weights=False, device=, multi_scale=False, single_cls=False, optimizer=SGD, sync_bn=False, workers=8, project=custom_yolov5, name=exp, exist_ok=False, quad=False, cos_lr=False, label_smoothing=0.0, patience=100, freeze=[0], save_period=5, local_rank=-1, entity=None, upload_dataset=False, bbox_interval=1, artifact_alias=latest\n",
      "\u001b[34m\u001b[1mgithub: \u001b[0mup to date with https://github.com/ultralytics/yolov5 ✅\n",
      "YOLOv5 🚀 v6.1-11-g63ddb6f torch 1.10.2+cu102 CUDA:0 (Tesla T4, 15110MiB)\n",
      "\n",
      "\u001b[34m\u001b[1mhyperparameters: \u001b[0mlr0=0.01, lrf=0.01, momentum=0.937, weight_decay=0.0005, warmup_epochs=3.0, warmup_momentum=0.8, warmup_bias_lr=0.1, box=0.05, cls=0.5, cls_pw=1.0, obj=1.0, obj_pw=1.0, iou_t=0.2, anchor_t=4.0, fl_gamma=0.0, hsv_h=0.015, hsv_s=0.7, hsv_v=0.4, degrees=0.0, translate=0.1, scale=0.5, shear=0.0, perspective=0.0, flipud=0.0, fliplr=0.5, mosaic=1.0, mixup=0.0, copy_paste=0.0\n",
      "\u001b[34m\u001b[1mWeights & Biases: \u001b[0mrun 'pip install wandb' to automatically track and visualize YOLOv5 🚀 runs (RECOMMENDED)\n",
      "\u001b[34m\u001b[1mTensorBoard: \u001b[0mStart with 'tensorboard --logdir custom_yolov5', view at http://localhost:6006/\n",
      "\n",
      "                 from  n    params  module                                  arguments                     \n",
      "  0                -1  1      3520  models.common.Conv                      [3, 32, 6, 2, 2]              \n",
      "  1                -1  1     18560  models.common.Conv                      [32, 64, 3, 2]                \n",
      "  2                -1  1     18816  models.common.C3                        [64, 64, 1]                   \n",
      "  3                -1  1     73984  models.common.Conv                      [64, 128, 3, 2]               \n",
      "  4                -1  2    115712  models.common.C3                        [128, 128, 2]                 \n",
      "  5                -1  1    295424  models.common.Conv                      [128, 256, 3, 2]              \n",
      "  6                -1  3    625152  models.common.C3                        [256, 256, 3]                 \n",
      "  7                -1  1   1180672  models.common.Conv                      [256, 512, 3, 2]              \n",
      "  8                -1  1   1182720  models.common.C3                        [512, 512, 1]                 \n",
      "  9                -1  1    656896  models.common.SPPF                      [512, 512, 5]                 \n",
      " 10                -1  1    131584  models.common.Conv                      [512, 256, 1, 1]              \n",
      " 11                -1  1         0  torch.nn.modules.upsampling.Upsample    [None, 2, 'nearest']          \n",
      " 12           [-1, 6]  1         0  models.common.Concat                    [1]                           \n",
      " 13                -1  1    361984  models.common.C3                        [512, 256, 1, False]          \n",
      " 14                -1  1     33024  models.common.Conv                      [256, 128, 1, 1]              \n",
      " 15                -1  1         0  torch.nn.modules.upsampling.Upsample    [None, 2, 'nearest']          \n",
      " 16           [-1, 4]  1         0  models.common.Concat                    [1]                           \n",
      " 17                -1  1     90880  models.common.C3                        [256, 128, 1, False]          \n",
      " 18                -1  1    147712  models.common.Conv                      [128, 128, 3, 2]              \n",
      " 19          [-1, 14]  1         0  models.common.Concat                    [1]                           \n",
      " 20                -1  1    296448  models.common.C3                        [256, 256, 1, False]          \n",
      " 21                -1  1    590336  models.common.Conv                      [256, 256, 3, 2]              \n",
      " 22          [-1, 10]  1         0  models.common.Concat                    [1]                           \n",
      " 23                -1  1   1182720  models.common.C3                        [512, 512, 1, False]          \n",
      " 24      [17, 20, 23]  1     16182  models.yolo.Detect                      [1, [[10, 13, 16, 30, 33, 23], [30, 61, 62, 45, 59, 119], [116, 90, 156, 198, 373, 326]], [128, 256, 512]]\n",
      "Model Summary: 270 layers, 7022326 parameters, 7022326 gradients, 15.8 GFLOPs\n",
      "\n",
      "Transferred 349/349 items from best.pt\n",
      "Scaled weight_decay = 0.0005\n",
      "\u001b[34m\u001b[1moptimizer:\u001b[0m SGD with parameter groups 57 weight (no decay), 60 weight, 60 bias\n",
      "\u001b[34m\u001b[1mtrain: \u001b[0mScanning '/home/ec2-user/AutoArki/yolov5/yolov5/training_data.cache' imag\u001b[0m\n",
      "\u001b[34m\u001b[1mval: \u001b[0mScanning '/home/ec2-user/AutoArki/yolov5/yolov5/test_data.cache' images and\u001b[0m\n",
      "\u001b[34m\u001b[1mval: \u001b[0mScanning '/home/ec2-user/AutoArki/yolov5/yolov5/test_data.cache' images and\u001b[0m\n",
      "\u001b[34m\u001b[1mval: \u001b[0mScanning '/home/ec2-user/AutoArki/yolov5/yolov5/test_data.cache' images and\u001b[0m\n",
      "\u001b[34m\u001b[1mtrain: \u001b[0mScanning '/home/ec2-user/AutoArki/yolov5/yolov5/training_data.cache' imag\u001b[0m\n",
      "Plotting labels to custom_yolov5/exp9/labels.jpg... \n",
      "\u001b[34m\u001b[1mval: \u001b[0mScanning '/home/ec2-user/AutoArki/yolov5/yolov5/test_data.cache' images and\u001b[0m\n",
      "\u001b[34m\u001b[1mtrain: \u001b[0mScanning '/home/ec2-user/AutoArki/yolov5/yolov5/training_data.cache' imag\u001b[0m\n",
      "\u001b[34m\u001b[1mtrain: \u001b[0mScanning '/home/ec2-user/AutoArki/yolov5/yolov5/training_data.cache' imag\u001b[0m\n",
      "\u001b[34m\u001b[1mtrain: \u001b[0mScanning '/home/ec2-user/AutoArki/yolov5/yolov5/training_data.cache' imag\u001b[0m\n",
      "\u001b[34m\u001b[1mtrain: \u001b[0mScanning '/home/ec2-user/AutoArki/yolov5/yolov5/training_data.cache' imag\u001b[0m\n",
      "\u001b[34m\u001b[1mtrain: \u001b[0mScanning '/home/ec2-user/AutoArki/yolov5/yolov5/training_data.cache' imag\u001b[0m\n",
      "\u001b[34m\u001b[1mtrain: \u001b[0mScanning '/home/ec2-user/AutoArki/yolov5/yolov5/training_data.cache' imag\u001b[0m\n",
      "\u001b[34m\u001b[1mtrain: \u001b[0mScanning '/home/ec2-user/AutoArki/yolov5/yolov5/training_data.cache' imag\u001b[0m\n",
      "\u001b[34m\u001b[1mval: \u001b[0mScanning '/home/ec2-user/AutoArki/yolov5/yolov5/test_data.cache' images and\u001b[0m\n",
      "\u001b[34m\u001b[1mval: \u001b[0mScanning '/home/ec2-user/AutoArki/yolov5/yolov5/test_data.cache' images and\u001b[0m\n",
      "\u001b[34m\u001b[1mval: \u001b[0mScanning '/home/ec2-user/AutoArki/yolov5/yolov5/test_data.cache' images and\u001b[0m\n",
      "\n",
      "\u001b[34m\u001b[1mAutoAnchor: \u001b[0m5.40 anchors/target, 1.000 Best Possible Recall (BPR). Current anchors are a good fit to dataset ✅\n",
      "Image sizes 640 train, 640 val\n",
      "Using 8 dataloader workers\n",
      "Logging results to \u001b[1mcustom_yolov5/exp9\u001b[0m\n",
      "Starting training for 10 epochs...\n",
      "\n",
      "     Epoch   gpu_mem       box       obj       cls    labels  img_size\n",
      "       0/9     3.27G   0.03839  0.007182         0        11       640: 100%|███\n",
      "               Class     Images     Labels          P          R     mAP@.5 mAP@\n",
      "                 all         63        100       0.65       0.43      0.506      0.199\n",
      "\n",
      "     Epoch   gpu_mem       box       obj       cls    labels  img_size\n",
      "       1/9     4.32G   0.03721  0.007416         0         9       640: 100%|███\n",
      "               Class     Images     Labels          P          R     mAP@.5 mAP@\n",
      "                 all         63        100      0.453       0.56       0.48      0.171\n",
      "\n",
      "     Epoch   gpu_mem       box       obj       cls    labels  img_size\n",
      "       2/9     4.32G   0.03975  0.006836         0        12       640: 100%|███\n",
      "               Class     Images     Labels          P          R     mAP@.5 mAP@\n",
      "                 all         63        100      0.586       0.51      0.509      0.199\n",
      "\n",
      "     Epoch   gpu_mem       box       obj       cls    labels  img_size\n",
      "       3/9     4.32G   0.04091    0.0061         0         5       640: 100%|███\n",
      "               Class     Images     Labels          P          R     mAP@.5 mAP@\n",
      "                 all         63        100      0.612      0.488      0.528      0.176\n",
      "\n",
      "     Epoch   gpu_mem       box       obj       cls    labels  img_size\n",
      "       4/9     4.32G   0.03919  0.007201         0         6       640: 100%|███\n",
      "               Class     Images     Labels          P          R     mAP@.5 mAP@\n",
      "                 all         63        100      0.512       0.55      0.459      0.191\n",
      "\n",
      "     Epoch   gpu_mem       box       obj       cls    labels  img_size\n",
      "       5/9     4.32G    0.0409  0.008151         0         5       640: 100%|███\n",
      "               Class     Images     Labels          P          R     mAP@.5 mAP@\n",
      "                 all         63        100      0.492      0.339      0.348     0.0718\n",
      "\n",
      "     Epoch   gpu_mem       box       obj       cls    labels  img_size\n",
      "       6/9     4.32G   0.03982  0.006338         0        14       640: 100%|███\n",
      "               Class     Images     Labels          P          R     mAP@.5 mAP@\n",
      "                 all         63        100      0.436      0.579      0.432      0.155\n",
      "\n",
      "     Epoch   gpu_mem       box       obj       cls    labels  img_size\n",
      "       7/9     4.32G    0.0418  0.007287         0        18       640: 100%|███\n",
      "               Class     Images     Labels          P          R     mAP@.5 mAP@\n",
      "                 all         63        100      0.529        0.5      0.462      0.142\n",
      "\n",
      "     Epoch   gpu_mem       box       obj       cls    labels  img_size\n",
      "       8/9     4.32G   0.03842   0.00719         0        10       640: 100%|███\n",
      "               Class     Images     Labels          P          R     mAP@.5 mAP@\n",
      "                 all         63        100      0.564       0.43      0.446      0.177\n",
      "\n",
      "     Epoch   gpu_mem       box       obj       cls    labels  img_size\n",
      "       9/9     4.32G   0.03697  0.008063         0        11       640: 100%|███\n",
      "               Class     Images     Labels          P          R     mAP@.5 mAP@\n",
      "                 all         63        100      0.402       0.62      0.428      0.165\n",
      "\n",
      "10 epochs completed in 0.013 hours.\n",
      "Optimizer stripped from custom_yolov5/exp9/weights/last.pt, 14.5MB\n",
      "Optimizer stripped from custom_yolov5/exp9/weights/best.pt, 14.5MB\n",
      "\n",
      "Validating custom_yolov5/exp9/weights/best.pt...\n",
      "Fusing layers... \n",
      "Model Summary: 213 layers, 7012822 parameters, 0 gradients, 15.8 GFLOPs\n",
      "               Class     Images     Labels          P          R     mAP@.5 mAP@\n",
      "                 all         63        100      0.637      0.439      0.506        0.2\n",
      "Results saved to \u001b[1mcustom_yolov5/exp9\u001b[0m\n"
     ]
    }
   ],
   "source": [
    "# second run\n",
    "\n",
    "!python train_2.py\\\n",
    "    --data custom_dataset.yaml \\\n",
    "    --epochs 10 \\\n",
    "    --project custom_yolov5 \\\n",
    "    --bbox_interval 1 \\\n",
    "    --save-period 5 \\\n",
    "    --weights best.pt "
   ]
  },
  {
   "cell_type": "code",
   "execution_count": null,
   "metadata": {},
   "outputs": [],
   "source": [
    "#https://aws.amazon.com/blogs/machine-learning/announcing-the-amazon-s3-plugin-for-pytorch/\n",
    "#from awsio.python.lib.io.s3.s3dataset import S3IterableDataset\n"
   ]
  },
  {
   "cell_type": "code",
   "execution_count": null,
   "metadata": {},
   "outputs": [],
   "source": [
    "!aws cp custom_yolov5/ s3://autoarki-ground-truth-labeling/yolo5-output/ --recursive"
   ]
  },
  {
   "cell_type": "code",
   "execution_count": null,
   "metadata": {},
   "outputs": [],
   "source": []
  }
 ],
 "metadata": {
  "instance_type": "ml.t3.medium",
  "kernelspec": {
   "display_name": "Python 3",
   "language": "python",
   "name": "python3"
  },
  "language_info": {
   "codemirror_mode": {
    "name": "ipython",
    "version": 3
   },
   "file_extension": ".py",
   "mimetype": "text/x-python",
   "name": "python",
   "nbconvert_exporter": "python",
   "pygments_lexer": "ipython3",
   "version": "3.9.4"
  }
 },
 "nbformat": 4,
 "nbformat_minor": 4
}
