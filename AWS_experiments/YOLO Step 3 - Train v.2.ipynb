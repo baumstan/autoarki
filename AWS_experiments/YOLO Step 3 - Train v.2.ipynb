{
 "cells": [
  {
   "cell_type": "markdown",
   "metadata": {},
   "source": [
    "# YOLO Step 3 v.2\n"
   ]
  },
  {
   "cell_type": "code",
   "execution_count": 18,
   "metadata": {},
   "outputs": [],
   "source": [
    "import matplotlib.pyplot as plt\n",
    "import matplotlib.image as mpimg\n",
    "import numpy as np\n",
    "import boto3\n",
    "import io\n",
    "import pandas as pd\n",
    "import json\n",
    "import s3fs\n",
    "import os"
   ]
  },
  {
   "cell_type": "code",
   "execution_count": 4,
   "metadata": {},
   "outputs": [],
   "source": [
    "my_bucket = 'autoarki-ground-truth-labeling'\n",
    "client = boto3.client('s3')\n",
    "response = client.list_objects_v2(Bucket=my_bucket)\n",
    "session = boto3.Session(aws_access_key_id = os.getenv('AWSAccessKeyId'), \n",
    "                        aws_secret_access_key = os.getenv('AWS_SECRET_ACCESS_KEY')) "
   ]
  },
  {
   "cell_type": "code",
   "execution_count": 220,
   "metadata": {},
   "outputs": [
    {
     "ename": "FileNotFoundError",
     "evalue": "[Errno 2] No such file or directory",
     "output_type": "error",
     "traceback": [
      "\u001b[0;31m---------------------------------------------------------------------------\u001b[0m",
      "\u001b[0;31mFileNotFoundError\u001b[0m                         Traceback (most recent call last)",
      "Input \u001b[0;32mIn [220]\u001b[0m, in \u001b[0;36m<cell line: 1>\u001b[0;34m()\u001b[0m\n\u001b[0;32m----> 1\u001b[0m os\u001b[38;5;241m.\u001b[39mgetcwd()\n",
      "\u001b[0;31mFileNotFoundError\u001b[0m: [Errno 2] No such file or directory"
     ]
    }
   ],
   "source": [
    "os.getcwd()"
   ]
  },
  {
   "cell_type": "code",
   "execution_count": 217,
   "metadata": {},
   "outputs": [
    {
     "name": "stdout",
     "output_type": "stream",
     "text": [
      "shell-init: error retrieving current directory: getcwd: cannot access parent directories: No such file or directory\n",
      "shell-init: error retrieving current directory: getcwd: cannot access parent directories: No such file or directory\n",
      "shell-init: error retrieving current directory: getcwd: cannot access parent directories: No such file or directory\n"
     ]
    }
   ],
   "source": [
    "# change directory and copy files locally -- only do once\n",
    "\n",
    "!rm -r /home/ec2-user/AutoArki/yolov5/yolov5/training_data; mkdir /home/ec2-user/AutoArki/yolov5/yolov5/training_data\n",
    "!cp /home/ec2-user/train/images/*  /home/ec2-user/AutoArki/yolov5/yolov5/training_data --recursive\n",
    "!cp /home/ec2-user/train/labels/*  /home/ec2-user/AutoArki/yolov5/yolov5/training_data --recursive\n",
    "\n",
    "!rm -r /home/ec2-user/AutoArki/yolov5/yolov5/test_data\n",
    "!mkdir /home/ec2-user/AutoArki/yolov5/yolov5/test_data\n",
    "!cp /home/ec2-user/test/images/* /home/ec2-user/AutoArki/yolov5/yolov5/test_data --recursive\n",
    "!cp /home/ec2-user/test/labels/* /home/ec2-user/AutoArki/yolov5/yolov5/test_data --recursive\n"
   ]
  },
  {
   "cell_type": "markdown",
   "metadata": {},
   "source": [
    "# Replace Class Type"
   ]
  },
  {
   "cell_type": "code",
   "execution_count": 218,
   "metadata": {},
   "outputs": [],
   "source": [
    "classes = {'1': 'cmu_hinge_clearance', \n",
    "           '2': 'Column_Wall_Intersection', \n",
    "           '3':'illegibletext', \n",
    "           '4': 'missing_wall',\n",
    "           '5': 'no_stair_direction'}"
   ]
  },
  {
   "cell_type": "code",
   "execution_count": 219,
   "metadata": {},
   "outputs": [],
   "source": [
    "def replace_class_n_with_class_name(file_path):\n",
    "    '''for a txt file replace the class number with a class name'''\n",
    "    new_lines = []\n",
    "    infile = open(file_path, \"r\")\n",
    "    lines = infile.readlines()\n",
    "\n",
    "    if len(lines) == 0:\n",
    "        pass\n",
    "    else:\n",
    "        for og_line in lines:\n",
    "            class_n = og_line[0]\n",
    "            class_str = classes[class_n]\n",
    "            new_line = og_line.replace(class_n, class_str, 1)\n",
    "            new_lines.append(new_line)\n",
    "#        print(new_lines)\n",
    "\n",
    "\n",
    "    with open(path, 'w') as outfile:\n",
    "        outfile.write('\\n'.join(new_lines))"
   ]
  },
  {
   "cell_type": "code",
   "execution_count": 216,
   "metadata": {},
   "outputs": [
    {
     "ename": "KeyError",
     "evalue": "'i'",
     "output_type": "error",
     "traceback": [
      "\u001b[0;31m---------------------------------------------------------------------------\u001b[0m",
      "\u001b[0;31mKeyError\u001b[0m                                  Traceback (most recent call last)",
      "Input \u001b[0;32mIn [216]\u001b[0m, in \u001b[0;36m<cell line: 3>\u001b[0;34m()\u001b[0m\n\u001b[1;32m      2\u001b[0m os\u001b[38;5;241m.\u001b[39mchdir(\u001b[38;5;124m\"\u001b[39m\u001b[38;5;124m/home/ec2-user/AutoArki/yolov5/yolov5/test_data\u001b[39m\u001b[38;5;124m\"\u001b[39m)\n\u001b[1;32m      3\u001b[0m \u001b[38;5;28;01mfor\u001b[39;00m file \u001b[38;5;129;01min\u001b[39;00m glob\u001b[38;5;241m.\u001b[39mglob(\u001b[38;5;124m\"\u001b[39m\u001b[38;5;124m*.txt\u001b[39m\u001b[38;5;124m\"\u001b[39m):\n\u001b[0;32m----> 4\u001b[0m     replace_class_n_with_class_name(file)\n",
      "Input \u001b[0;32mIn [215]\u001b[0m, in \u001b[0;36mreplace_class_n_with_class_name\u001b[0;34m(file_path)\u001b[0m\n\u001b[1;32m     10\u001b[0m \u001b[38;5;28;01mfor\u001b[39;00m og_line \u001b[38;5;129;01min\u001b[39;00m lines:\n\u001b[1;32m     11\u001b[0m     class_n \u001b[38;5;241m=\u001b[39m og_line[\u001b[38;5;241m0\u001b[39m]\n\u001b[0;32m---> 12\u001b[0m     class_str \u001b[38;5;241m=\u001b[39m \u001b[43mclasses\u001b[49m\u001b[43m[\u001b[49m\u001b[43mclass_n\u001b[49m\u001b[43m]\u001b[49m\n\u001b[1;32m     13\u001b[0m     new_line \u001b[38;5;241m=\u001b[39m og_line\u001b[38;5;241m.\u001b[39mreplace(class_n, class_str, \u001b[38;5;241m1\u001b[39m)\n\u001b[1;32m     14\u001b[0m     new_lines\u001b[38;5;241m.\u001b[39mappend(new_line)\n",
      "\u001b[0;31mKeyError\u001b[0m: 'i'"
     ]
    }
   ],
   "source": [
    "import glob \n",
    "os.chdir(\"/home/ec2-user/AutoArki/yolov5/yolov5/test_data\")\n",
    "for file in glob.glob(\"*.txt\"):\n",
    "    replace_class_n_with_class_name(file)"
   ]
  },
  {
   "cell_type": "code",
   "execution_count": 193,
   "metadata": {},
   "outputs": [
    {
     "name": "stdout",
     "output_type": "stream",
     "text": [
      "['1 0.7355769230769231 0.38822115384615385 0.11538461538461539 0.09375']\n",
      "['1 0.7355769230769231 0.38822115384615385 0.11538461538461539 0.09375']\n",
      "['1 0.7355769230769231 0.38822115384615385 0.11538461538461539 0.09375']\n",
      "['1 0.7355769230769231 0.38822115384615385 0.11538461538461539 0.09375']\n",
      "['1 0.7355769230769231 0.38822115384615385 0.11538461538461539 0.09375']\n",
      "['1 0.7355769230769231 0.38822115384615385 0.11538461538461539 0.09375']\n",
      "['1 0.7355769230769231 0.38822115384615385 0.11538461538461539 0.09375']\n",
      "['1 0.7355769230769231 0.38822115384615385 0.11538461538461539 0.09375']\n",
      "['1 0.7355769230769231 0.38822115384615385 0.11538461538461539 0.09375']\n",
      "['1 0.7355769230769231 0.38822115384615385 0.11538461538461539 0.09375']\n",
      "['1 0.7355769230769231 0.38822115384615385 0.11538461538461539 0.09375']\n",
      "['1 0.7355769230769231 0.38822115384615385 0.11538461538461539 0.09375']\n",
      "['1 0.7355769230769231 0.38822115384615385 0.11538461538461539 0.09375']\n",
      "['1 0.7355769230769231 0.38822115384615385 0.11538461538461539 0.09375']\n",
      "['1 0.7355769230769231 0.38822115384615385 0.11538461538461539 0.09375']\n",
      "['1 0.7355769230769231 0.38822115384615385 0.11538461538461539 0.09375']\n",
      "['1 0.7355769230769231 0.38822115384615385 0.11538461538461539 0.09375']\n",
      "['1 0.7355769230769231 0.38822115384615385 0.11538461538461539 0.09375']\n",
      "['1 0.7355769230769231 0.38822115384615385 0.11538461538461539 0.09375']\n",
      "['1 0.7355769230769231 0.38822115384615385 0.11538461538461539 0.09375']\n",
      "['1 0.7355769230769231 0.38822115384615385 0.11538461538461539 0.09375']\n",
      "['1 0.7355769230769231 0.38822115384615385 0.11538461538461539 0.09375']\n",
      "['1 0.7355769230769231 0.38822115384615385 0.11538461538461539 0.09375']\n",
      "['1 0.7355769230769231 0.38822115384615385 0.11538461538461539 0.09375']\n",
      "['1 0.7355769230769231 0.38822115384615385 0.11538461538461539 0.09375']\n",
      "['1 0.7355769230769231 0.38822115384615385 0.11538461538461539 0.09375']\n",
      "['1 0.7355769230769231 0.38822115384615385 0.11538461538461539 0.09375']\n",
      "['1 0.7355769230769231 0.38822115384615385 0.11538461538461539 0.09375']\n",
      "['1 0.7355769230769231 0.38822115384615385 0.11538461538461539 0.09375']\n",
      "['1 0.7355769230769231 0.38822115384615385 0.11538461538461539 0.09375']\n",
      "['1 0.7355769230769231 0.38822115384615385 0.11538461538461539 0.09375']\n",
      "['1 0.7355769230769231 0.38822115384615385 0.11538461538461539 0.09375']\n",
      "['1 0.7355769230769231 0.38822115384615385 0.11538461538461539 0.09375']\n",
      "['1 0.7355769230769231 0.38822115384615385 0.11538461538461539 0.09375']\n",
      "['1 0.7355769230769231 0.38822115384615385 0.11538461538461539 0.09375']\n",
      "['1 0.7355769230769231 0.38822115384615385 0.11538461538461539 0.09375']\n",
      "['1 0.7355769230769231 0.38822115384615385 0.11538461538461539 0.09375']\n",
      "['1 0.7355769230769231 0.38822115384615385 0.11538461538461539 0.09375']\n",
      "['1 0.7355769230769231 0.38822115384615385 0.11538461538461539 0.09375']\n",
      "['1 0.7355769230769231 0.38822115384615385 0.11538461538461539 0.09375']\n",
      "['1 0.7355769230769231 0.38822115384615385 0.11538461538461539 0.09375']\n",
      "['1 0.7355769230769231 0.38822115384615385 0.11538461538461539 0.09375']\n",
      "['1 0.7355769230769231 0.38822115384615385 0.11538461538461539 0.09375']\n",
      "['1 0.7355769230769231 0.38822115384615385 0.11538461538461539 0.09375']\n",
      "['1 0.7355769230769231 0.38822115384615385 0.11538461538461539 0.09375']\n",
      "['1 0.7355769230769231 0.38822115384615385 0.11538461538461539 0.09375']\n",
      "['1 0.7355769230769231 0.38822115384615385 0.11538461538461539 0.09375']\n",
      "['1 0.7355769230769231 0.38822115384615385 0.11538461538461539 0.09375']\n",
      "['1 0.7355769230769231 0.38822115384615385 0.11538461538461539 0.09375']\n",
      "['1 0.7355769230769231 0.38822115384615385 0.11538461538461539 0.09375']\n",
      "['1 0.7355769230769231 0.38822115384615385 0.11538461538461539 0.09375']\n",
      "['1 0.7355769230769231 0.38822115384615385 0.11538461538461539 0.09375']\n",
      "['1 0.7355769230769231 0.38822115384615385 0.11538461538461539 0.09375']\n",
      "['1 0.7355769230769231 0.38822115384615385 0.11538461538461539 0.09375']\n"
     ]
    }
   ],
   "source": [
    "import pathlib\n",
    "for txt_file in pathlib.Path('/home/ec2-user/AutoArki/yolov5/yolov5/test_data').glob('*.txt'):\n",
    "    \n",
    "    \n",
    "# for txt_file in pathlib.Path('/home/ec2-user/AutoArki/yolov5/yolov5/training_data').glob('*.txt'):\n",
    "#     replace_class_n_with_class_name(txt_file)\n",
    "    "
   ]
  },
  {
   "cell_type": "markdown",
   "metadata": {},
   "source": [
    "# Learning"
   ]
  },
  {
   "cell_type": "markdown",
   "metadata": {},
   "source": [
    "use smallest YOLO model to start yolov5s.pt"
   ]
  },
  {
   "cell_type": "code",
   "execution_count": 21,
   "metadata": {},
   "outputs": [],
   "source": [
    "import torch\n",
    "import torchvision"
   ]
  },
  {
   "cell_type": "code",
   "execution_count": null,
   "metadata": {},
   "outputs": [],
   "source": [
    "os.chdir(\"/home/ec2-user/AutoArki/yolov5/yolov5/\")\n",
    "!pip install -r requirements.txt  # install"
   ]
  },
  {
   "cell_type": "code",
   "execution_count": 36,
   "metadata": {},
   "outputs": [
    {
     "name": "stdout",
     "output_type": "stream",
     "text": [
      "\u001b[34m\u001b[1mwandb\u001b[0m: (1) Create a W&B account\n",
      "\u001b[34m\u001b[1mwandb\u001b[0m: (2) Use an existing W&B account\n",
      "\u001b[34m\u001b[1mwandb\u001b[0m: (3) Don't visualize my results\n",
      "\u001b[34m\u001b[1mwandb\u001b[0m: Enter your choice: (30 second timeout) \n",
      "\u001b[34m\u001b[1mwandb\u001b[0m: W&B disabled due to login timeout.\n",
      "\u001b[34m\u001b[1mtrain: \u001b[0mweights=yolov5s.pt, cfg=, data=custom_dataset.yaml, hyp=data/hyps/hyp.scratch-low.yaml, epochs=75, batch_size=16, imgsz=640, rect=False, resume=False, nosave=False, noval=False, noautoanchor=False, evolve=None, bucket=, cache=None, image_weights=False, device=, multi_scale=False, single_cls=False, optimizer=SGD, sync_bn=False, workers=8, project=custom_yolov5, name=exp, exist_ok=False, quad=False, cos_lr=False, label_smoothing=0.0, patience=100, freeze=[0], save_period=5, local_rank=-1, entity=None, upload_dataset=False, bbox_interval=1, artifact_alias=latest\n",
      "\u001b[34m\u001b[1mgithub: \u001b[0m⚠️ YOLOv5 is out of date by 10 commits. Use `git pull` or `git clone https://github.com/ultralytics/yolov5` to update.\n",
      "YOLOv5 🚀 v6.1-11-g63ddb6f torch 1.10.2+cu102 CUDA:0 (Tesla T4, 15110MiB)\n",
      "\n",
      "\u001b[34m\u001b[1mhyperparameters: \u001b[0mlr0=0.01, lrf=0.01, momentum=0.937, weight_decay=0.0005, warmup_epochs=3.0, warmup_momentum=0.8, warmup_bias_lr=0.1, box=0.05, cls=0.5, cls_pw=1.0, obj=1.0, obj_pw=1.0, iou_t=0.2, anchor_t=4.0, fl_gamma=0.0, hsv_h=0.015, hsv_s=0.7, hsv_v=0.4, degrees=0.0, translate=0.1, scale=0.5, shear=0.0, perspective=0.0, flipud=0.0, fliplr=0.5, mosaic=1.0, mixup=0.0, copy_paste=0.0\n",
      "\u001b[34m\u001b[1mWeights & Biases: \u001b[0mrun 'pip install wandb' to automatically track and visualize YOLOv5 🚀 runs (RECOMMENDED)\n",
      "\u001b[34m\u001b[1mTensorBoard: \u001b[0mStart with 'tensorboard --logdir custom_yolov5', view at http://localhost:6006/\n",
      "Overriding model.yaml nc=80 with nc=5\n",
      "\n",
      "                 from  n    params  module                                  arguments                     \n",
      "  0                -1  1      3520  models.common.Conv                      [3, 32, 6, 2, 2]              \n",
      "  1                -1  1     18560  models.common.Conv                      [32, 64, 3, 2]                \n",
      "  2                -1  1     18816  models.common.C3                        [64, 64, 1]                   \n",
      "  3                -1  1     73984  models.common.Conv                      [64, 128, 3, 2]               \n",
      "  4                -1  2    115712  models.common.C3                        [128, 128, 2]                 \n",
      "  5                -1  1    295424  models.common.Conv                      [128, 256, 3, 2]              \n",
      "  6                -1  3    625152  models.common.C3                        [256, 256, 3]                 \n",
      "  7                -1  1   1180672  models.common.Conv                      [256, 512, 3, 2]              \n",
      "  8                -1  1   1182720  models.common.C3                        [512, 512, 1]                 \n",
      "  9                -1  1    656896  models.common.SPPF                      [512, 512, 5]                 \n",
      " 10                -1  1    131584  models.common.Conv                      [512, 256, 1, 1]              \n",
      " 11                -1  1         0  torch.nn.modules.upsampling.Upsample    [None, 2, 'nearest']          \n",
      " 12           [-1, 6]  1         0  models.common.Concat                    [1]                           \n",
      " 13                -1  1    361984  models.common.C3                        [512, 256, 1, False]          \n",
      " 14                -1  1     33024  models.common.Conv                      [256, 128, 1, 1]              \n",
      " 15                -1  1         0  torch.nn.modules.upsampling.Upsample    [None, 2, 'nearest']          \n",
      " 16           [-1, 4]  1         0  models.common.Concat                    [1]                           \n",
      " 17                -1  1     90880  models.common.C3                        [256, 128, 1, False]          \n",
      " 18                -1  1    147712  models.common.Conv                      [128, 128, 3, 2]              \n",
      " 19          [-1, 14]  1         0  models.common.Concat                    [1]                           \n",
      " 20                -1  1    296448  models.common.C3                        [256, 256, 1, False]          \n",
      " 21                -1  1    590336  models.common.Conv                      [256, 256, 3, 2]              \n",
      " 22          [-1, 10]  1         0  models.common.Concat                    [1]                           \n",
      " 23                -1  1   1182720  models.common.C3                        [512, 512, 1, False]          \n",
      " 24      [17, 20, 23]  1     26970  models.yolo.Detect                      [5, [[10, 13, 16, 30, 33, 23], [30, 61, 62, 45, 59, 119], [116, 90, 156, 198, 373, 326]], [128, 256, 512]]\n",
      "Model Summary: 270 layers, 7033114 parameters, 7033114 gradients, 15.9 GFLOPs\n",
      "\n",
      "Transferred 343/349 items from yolov5s.pt\n",
      "Scaled weight_decay = 0.0005\n",
      "\u001b[34m\u001b[1moptimizer:\u001b[0m SGD with parameter groups 57 weight (no decay), 60 weight, 60 bias\n",
      "\u001b[34m\u001b[1mtrain: \u001b[0mScanning '/home/ec2-user/AutoArki/yolov5/yolov5/training_data' images and\u001b[0m\n",
      "\u001b[34m\u001b[1mtrain: \u001b[0mNew cache created: /home/ec2-user/AutoArki/yolov5/yolov5/training_data.cache\n",
      "Traceback (most recent call last):\n",
      "  File \"/home/ec2-user/AutoArki/yolov5/yolov5/train.py\", line 643, in <module>\n",
      "    main(opt)\n",
      "  File \"/home/ec2-user/AutoArki/yolov5/yolov5/train.py\", line 539, in main\n",
      "    train(opt.hyp, opt, device, callbacks)\n",
      "  File \"/home/ec2-user/AutoArki/yolov5/yolov5/train.py\", line 230, in train\n",
      "    assert mlc < nc, f'Label class {mlc} exceeds nc={nc} in {data}. Possible class labels are 0-{nc - 1}'\n",
      "AssertionError: Label class 5 exceeds nc=5 in custom_dataset.yaml. Possible class labels are 0-4\n"
     ]
    }
   ],
   "source": [
    "# first run\n",
    "!python train.py\\\n",
    "    --data custom_dataset.yaml \\\n",
    "    --epochs 75\\\n",
    "    --project custom_yolov5 \\\n",
    "    --bbox_interval 1 \\\n",
    "    --save-period 5 \\\n",
    "    --weights yolov5s.pt "
   ]
  },
  {
   "cell_type": "code",
   "execution_count": 29,
   "metadata": {},
   "outputs": [
    {
     "name": "stdout",
     "output_type": "stream",
     "text": [
      "^C\n",
      "Traceback (most recent call last):\n",
      "  File \"/opt/conda/lib/python3.9/collections/__init__.py\", line 938, in __getitem__\n",
      "    return mapping[key]             # can't use 'key in mapping' with defaultdict\n",
      "KeyError: 'jupyter-execute'\n",
      "\n",
      "During handling of the above exception, another exception occurred:\n",
      "\n",
      "Traceback (most recent call last):\n",
      "  File \"/home/ec2-user/AutoArki/yolov5/yolov5/train_2.py\", line 53, in <module>\n",
      "    from utils.loggers import Loggers\n",
      "  File \"/home/ec2-user/AutoArki/yolov5/yolov5/utils/loggers/__init__.py\", line 12, in <module>\n",
      "    from torch.utils.tensorboard import SummaryWriter\n",
      "  File \"/home/ec2-user/.local/lib/python3.9/site-packages/torch/utils/tensorboard/__init__.py\", line 13, in <module>\n",
      "    from .writer import FileWriter, SummaryWriter  # noqa: F401\n",
      "  File \"/home/ec2-user/.local/lib/python3.9/site-packages/torch/utils/tensorboard/writer.py\", line 13, in <module>\n",
      "    from tensorboard.summary.writer.event_file_writer import EventFileWriter\n",
      "  File \"/home/ec2-user/.local/lib/python3.9/site-packages/tensorboard/summary/__init__.py\", line 22, in <module>\n",
      "    from tensorboard.summary import v1  # noqa: F401\n",
      "  File \"/home/ec2-user/.local/lib/python3.9/site-packages/tensorboard/summary/v1.py\", line 23, in <module>\n",
      "    from tensorboard.plugins.histogram import summary as _histogram_summary\n",
      "  File \"/home/ec2-user/.local/lib/python3.9/site-packages/tensorboard/plugins/histogram/summary.py\", line 35, in <module>\n",
      "    from tensorboard.plugins.histogram import summary_v2\n",
      "  File \"/home/ec2-user/.local/lib/python3.9/site-packages/tensorboard/plugins/histogram/summary_v2.py\", line 35, in <module>\n",
      "    from tensorboard.util import tensor_util\n",
      "  File \"/home/ec2-user/.local/lib/python3.9/site-packages/tensorboard/util/tensor_util.py\", line 20, in <module>\n",
      "    from tensorboard.compat.tensorflow_stub import dtypes, compat, tensor_shape\n",
      "  File \"/home/ec2-user/.local/lib/python3.9/site-packages/tensorboard/compat/tensorflow_stub/__init__.py\", line 22, in <module>\n",
      "    from .dtypes import as_dtype  # noqa\n",
      "  File \"/home/ec2-user/.local/lib/python3.9/site-packages/tensorboard/compat/tensorflow_stub/dtypes.py\", line 19, in <module>\n",
      "    from . import pywrap_tensorflow\n",
      "  File \"/home/ec2-user/.local/lib/python3.9/site-packages/tensorboard/compat/tensorflow_stub/pywrap_tensorflow.py\", line 22, in <module>\n",
      "    from .io import gfile\n",
      "  File \"/home/ec2-user/.local/lib/python3.9/site-packages/tensorboard/compat/tensorflow_stub/io/__init__.py\", line 17, in <module>\n",
      "    from . import gfile  # noqa\n",
      "  File \"/home/ec2-user/.local/lib/python3.9/site-packages/tensorboard/compat/tensorflow_stub/io/gfile.py\", line 40, in <module>\n",
      "    import fsspec\n",
      "  File \"/home/ec2-user/.local/lib/python3.9/site-packages/fsspec/__init__.py\", line 61, in <module>\n",
      "    process_entries()\n",
      "  File \"/home/ec2-user/.local/lib/python3.9/site-packages/fsspec/__init__.py\", line 46, in process_entries\n",
      "    eps = entry_points()\n",
      "  File \"/opt/conda/lib/python3.9/importlib/metadata.py\", line 562, in entry_points\n",
      "    ordered = sorted(eps, key=by_group)\n",
      "  File \"/opt/conda/lib/python3.9/importlib/metadata.py\", line 560, in <genexpr>\n",
      "    dist.entry_points for dist in distributions())\n",
      "  File \"/opt/conda/lib/python3.9/importlib/metadata.py\", line 261, in entry_points\n",
      "    return EntryPoint._from_text(self.read_text('entry_points.txt'))\n",
      "  File \"/opt/conda/lib/python3.9/importlib/metadata.py\", line 114, in _from_text\n",
      "    return EntryPoint._from_config(config)\n",
      "  File \"/opt/conda/lib/python3.9/importlib/metadata.py\", line 98, in _from_config\n",
      "    return [\n",
      "  File \"/opt/conda/lib/python3.9/importlib/metadata.py\", line 101, in <listcomp>\n",
      "    for name, value in config.items(group)\n",
      "  File \"/opt/conda/lib/python3.9/configparser.py\", line 859, in items\n",
      "    return [(option, value_getter(option)) for option in orig_keys]\n",
      "  File \"/opt/conda/lib/python3.9/configparser.py\", line 859, in <listcomp>\n",
      "    return [(option, value_getter(option)) for option in orig_keys]\n",
      "  File \"/opt/conda/lib/python3.9/configparser.py\", line 855, in <lambda>\n",
      "    value_getter = lambda option: self._interpolation.before_get(self,\n",
      "  File \"/opt/conda/lib/python3.9/configparser.py\", line 395, in before_get\n",
      "    self._interpolate_some(parser, option, L, value, section, defaults, 1)\n",
      "  File \"/opt/conda/lib/python3.9/configparser.py\", line 408, in _interpolate_some\n",
      "    rawval = parser.get(section, option, raw=True, fallback=rest)\n",
      "  File \"/opt/conda/lib/python3.9/configparser.py\", line 789, in get\n",
      "    value = d[option]\n",
      "  File \"/opt/conda/lib/python3.9/collections/__init__.py\", line 938, in __getitem__\n",
      "    return mapping[key]             # can't use 'key in mapping' with defaultdict\n",
      "KeyboardInterrupt\n"
     ]
    }
   ],
   "source": [
    "# second run\n",
    "\n",
    "!python train_2.py\\\n",
    "    --data custom_dataset.yaml \\\n",
    "    --epochs 10 \\\n",
    "    --project custom_yolov5 \\\n",
    "    --bbox_interval 1 \\\n",
    "    --save-period 5 \\\n",
    "    --weights best.pt "
   ]
  },
  {
   "cell_type": "code",
   "execution_count": null,
   "metadata": {},
   "outputs": [],
   "source": [
    "#https://aws.amazon.com/blogs/machine-learning/announcing-the-amazon-s3-plugin-for-pytorch/\n",
    "#from awsio.python.lib.io.s3.s3dataset import S3IterableDataset\n"
   ]
  },
  {
   "cell_type": "code",
   "execution_count": null,
   "metadata": {},
   "outputs": [],
   "source": [
    "!aws cp custom_yolov5/ s3://autoarki-ground-truth-labeling/yolo5-output/ --recursive"
   ]
  },
  {
   "cell_type": "code",
   "execution_count": null,
   "metadata": {},
   "outputs": [],
   "source": []
  }
 ],
 "metadata": {
  "instance_type": "ml.t3.medium",
  "kernelspec": {
   "display_name": "Python 3",
   "language": "python",
   "name": "python3"
  },
  "language_info": {
   "codemirror_mode": {
    "name": "ipython",
    "version": 3
   },
   "file_extension": ".py",
   "mimetype": "text/x-python",
   "name": "python",
   "nbconvert_exporter": "python",
   "pygments_lexer": "ipython3",
   "version": "3.9.4"
  }
 },
 "nbformat": 4,
 "nbformat_minor": 4
}
