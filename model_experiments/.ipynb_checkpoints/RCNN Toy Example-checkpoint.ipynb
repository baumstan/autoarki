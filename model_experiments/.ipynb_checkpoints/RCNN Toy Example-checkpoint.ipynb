{
 "cells": [
  {
   "cell_type": "markdown",
   "metadata": {},
   "source": [
    "# Import custom images and annotations"
   ]
  },
  {
   "cell_type": "code",
   "execution_count": 37,
   "metadata": {},
   "outputs": [],
   "source": [
    "import matplotlib.pyplot as plt\n",
    "import matplotlib.image as mpimg\n",
    "import numpy as np\n",
    "import boto3\n",
    "import io\n",
    "import pandas as pd\n",
    "\n",
    "bucket = 'label-test3'\n",
    "client = boto3.client('s3')\n",
    "response = client.list_objects_v2(Bucket=bucket)\n"
   ]
  },
  {
   "cell_type": "markdown",
   "metadata": {},
   "source": [
    "## View one of the original raw files"
   ]
  },
  {
   "cell_type": "code",
   "execution_count": 2,
   "metadata": {},
   "outputs": [
    {
     "data": {
      "text/plain": [
       "{'ResponseMetadata': {'RequestId': 'N4QD5XFW0952E1ST',\n",
       "  'HostId': 'va+liH4Ym5gwvjF2mlMqwZ71MGVMTd5829lgEQwP0GMw+6AkrS2ZWGEB6bUngipSpa/EE5WIbGI=',\n",
       "  'HTTPStatusCode': 200,\n",
       "  'HTTPHeaders': {'x-amz-id-2': 'va+liH4Ym5gwvjF2mlMqwZ71MGVMTd5829lgEQwP0GMw+6AkrS2ZWGEB6bUngipSpa/EE5WIbGI=',\n",
       "   'x-amz-request-id': 'N4QD5XFW0952E1ST',\n",
       "   'date': 'Wed, 16 Feb 2022 04:19:06 GMT',\n",
       "   'last-modified': 'Tue, 15 Feb 2022 21:57:06 GMT',\n",
       "   'etag': '\"e04e8c567f9a188bb064608f007273e9\"',\n",
       "   'accept-ranges': 'bytes',\n",
       "   'content-type': 'image/jpeg',\n",
       "   'server': 'AmazonS3',\n",
       "   'content-length': '332269'},\n",
       "  'RetryAttempts': 0},\n",
       " 'AcceptRanges': 'bytes',\n",
       " 'LastModified': datetime.datetime(2022, 2, 15, 21, 57, 6, tzinfo=tzutc()),\n",
       " 'ContentLength': 332269,\n",
       " 'ETag': '\"e04e8c567f9a188bb064608f007273e9\"',\n",
       " 'ContentType': 'image/jpeg',\n",
       " 'Metadata': {},\n",
       " 'Body': <botocore.response.StreamingBody at 0x7f75a6a47a50>}"
      ]
     },
     "execution_count": 2,
     "metadata": {},
     "output_type": "execute_result"
    }
   ],
   "source": [
    "file_name = '0006-0044.png'\n",
    "#file_name = 'test12/annotations/consolidated-annotation/consolidation-request/iteration-1/2022-02-10_04:51:40.json'\n",
    "s3_clientobj = client.get_object(Bucket='label-test3', Key=file_name)\n",
    "s3_clientobj"
   ]
  },
  {
   "cell_type": "code",
   "execution_count": 3,
   "metadata": {},
   "outputs": [
    {
     "data": {
      "text/plain": [
       "<matplotlib.image.AxesImage at 0x7f75a6900210>"
      ]
     },
     "execution_count": 3,
     "metadata": {},
     "output_type": "execute_result"
    },
    {
     "data": {
      "image/png": "[encoded data removed]",
      "text/plain": [
       "<Figure size 432x288 with 1 Axes>"
      ]
     },
     "metadata": {
      "needs_background": "light"
     },
     "output_type": "display_data"
    }
   ],
   "source": [
    "from io import BytesIO\n",
    "image = mpimg.imread(BytesIO(s3_clientobj['Body'].read()), 'jp2')\n",
    "\n",
    "plt.figure(0)\n",
    "plt.imshow(image)\n"
   ]
  },
  {
   "cell_type": "markdown",
   "metadata": {},
   "source": [
    "## for each image return the bounding boxes\n",
    "1. Update input.json \n",
    "\n",
    "https://aws.amazon.com/blogs/machine-learning/streamlining-data-labeling-for-yolo-object-detection-in-amazon-sagemaker-ground-truth/"
   ]
  },
  {
   "cell_type": "markdown",
   "metadata": {},
   "source": [
    "2. Create a csv with each image and annotation"
   ]
  },
  {
   "cell_type": "code",
   "execution_count": 32,
   "metadata": {},
   "outputs": [
    {
     "name": "stdout",
     "output_type": "stream",
     "text": [
      "\u001b[22;0t\u001b]0;IPython: /root\u0007"
     ]
    }
   ],
   "source": [
    "!ipython parse_annot.py s3://label-test3/test12/manifests/output/output.manifest test12\n"
   ]
  },
  {
   "cell_type": "markdown",
   "metadata": {},
   "source": [
    "3. Get bounding boxes for each image"
   ]
  },
  {
   "cell_type": "code",
   "execution_count": 48,
   "metadata": {},
   "outputs": [
    {
     "data": {
      "text/html": [
       "<div>\n",
       "<style scoped>\n",
       "    .dataframe tbody tr th:only-of-type {\n",
       "        vertical-align: middle;\n",
       "    }\n",
       "\n",
       "    .dataframe tbody tr th {\n",
       "        vertical-align: top;\n",
       "    }\n",
       "\n",
       "    .dataframe thead th {\n",
       "        text-align: right;\n",
       "    }\n",
       "</style>\n",
       "<table border=\"1\" class=\"dataframe\">\n",
       "  <thead>\n",
       "    <tr style=\"text-align: right;\">\n",
       "      <th></th>\n",
       "      <th>img_file</th>\n",
       "      <th>category</th>\n",
       "      <th>box_left</th>\n",
       "      <th>box_top</th>\n",
       "      <th>box_height</th>\n",
       "      <th>box_width</th>\n",
       "      <th>img_width</th>\n",
       "      <th>img_height</th>\n",
       "    </tr>\n",
       "  </thead>\n",
       "  <tbody>\n",
       "    <tr>\n",
       "      <th>0</th>\n",
       "      <td>0141-0009.png</td>\n",
       "      <td>Overlapping text</td>\n",
       "      <td>705</td>\n",
       "      <td>416</td>\n",
       "      <td>166</td>\n",
       "      <td>186</td>\n",
       "      <td>1000</td>\n",
       "      <td>1000</td>\n",
       "    </tr>\n",
       "    <tr>\n",
       "      <th>1</th>\n",
       "      <td>0141-0014.png</td>\n",
       "      <td>Overlapping text</td>\n",
       "      <td>523</td>\n",
       "      <td>208</td>\n",
       "      <td>126</td>\n",
       "      <td>124</td>\n",
       "      <td>1000</td>\n",
       "      <td>1000</td>\n",
       "    </tr>\n",
       "  </tbody>\n",
       "</table>\n",
       "</div>"
      ],
      "text/plain": [
       "        img_file          category  box_left  box_top  box_height  box_width  \\\n",
       "0  0141-0009.png  Overlapping text       705      416         166        186   \n",
       "1  0141-0014.png  Overlapping text       523      208         126        124   \n",
       "\n",
       "   img_width  img_height  \n",
       "0       1000        1000  \n",
       "1       1000        1000  "
      ]
     },
     "execution_count": 48,
     "metadata": {},
     "output_type": "execute_result"
    }
   ],
   "source": [
    "# grab csv from S3 into memory\n",
    "file_key = \"test12/annot.csv\"\n",
    "annot_file = 's3://{}/{}'.format(bucket, file_key)\n",
    "# df_ann = pd.read_csv(s3uri)\n",
    "# df_ann.head()"
   ]
  },
  {
   "cell_type": "code",
   "execution_count": 49,
   "metadata": {},
   "outputs": [],
   "source": [
    "def annot_rcnn(annot_file, cats):\n",
    "    \"\"\"\n",
    "    Prepares the annotation in RCNN format\n",
    "\n",
    "    Input:\n",
    "    annot_file: csv file containing Ground Truth annotations\n",
    "    ordered_cats: List of object categories in proper order for model training\n",
    "\n",
    "    Returns:\n",
    "    df_ann: pandas dataframe with the following columns\n",
    "            img_file int_category box_top box_bottom box_left box_right\n",
    "\n",
    "    \"\"\"\n",
    "\n",
    "    df_ann = pd.read_csv(annot_file)\n",
    "\n",
    "    df_ann[\"int_category\"] = df_ann[\"category\"].apply(lambda x: cats.index(x))\n",
    "    df_ann[\"xmin\"] = df_ann[\"box_top\"]\n",
    "    df_ann[\"xmax\"] = df_ann[\"box_top\"] + df_ann[\"box_height\"]\n",
    "    df_ann[\"ymin\"] = df_ann[\"box_left\"]\n",
    "    df_ann[\"ymax\"] = df_ann[\"box_left\"] + df_ann[\"box_width\"]\n",
    "    \n",
    "\n",
    "    return df_ann"
   ]
  },
  {
   "cell_type": "code",
   "execution_count": 57,
   "metadata": {},
   "outputs": [
    {
     "data": {
      "text/html": [
       "<div>\n",
       "<style scoped>\n",
       "    .dataframe tbody tr th:only-of-type {\n",
       "        vertical-align: middle;\n",
       "    }\n",
       "\n",
       "    .dataframe tbody tr th {\n",
       "        vertical-align: top;\n",
       "    }\n",
       "\n",
       "    .dataframe thead th {\n",
       "        text-align: right;\n",
       "    }\n",
       "</style>\n",
       "<table border=\"1\" class=\"dataframe\">\n",
       "  <thead>\n",
       "    <tr style=\"text-align: right;\">\n",
       "      <th></th>\n",
       "      <th>img_file</th>\n",
       "      <th>category</th>\n",
       "      <th>box_left</th>\n",
       "      <th>box_top</th>\n",
       "      <th>box_height</th>\n",
       "      <th>box_width</th>\n",
       "      <th>img_width</th>\n",
       "      <th>img_height</th>\n",
       "      <th>int_category</th>\n",
       "      <th>xmin</th>\n",
       "      <th>xmax</th>\n",
       "      <th>ymin</th>\n",
       "      <th>ymax</th>\n",
       "    </tr>\n",
       "  </thead>\n",
       "  <tbody>\n",
       "    <tr>\n",
       "      <th>0</th>\n",
       "      <td>0141-0009.png</td>\n",
       "      <td>Overlapping text</td>\n",
       "      <td>705</td>\n",
       "      <td>416</td>\n",
       "      <td>166</td>\n",
       "      <td>186</td>\n",
       "      <td>1000</td>\n",
       "      <td>1000</td>\n",
       "      <td>0</td>\n",
       "      <td>416</td>\n",
       "      <td>582</td>\n",
       "      <td>705</td>\n",
       "      <td>891</td>\n",
       "    </tr>\n",
       "    <tr>\n",
       "      <th>1</th>\n",
       "      <td>0141-0014.png</td>\n",
       "      <td>Overlapping text</td>\n",
       "      <td>523</td>\n",
       "      <td>208</td>\n",
       "      <td>126</td>\n",
       "      <td>124</td>\n",
       "      <td>1000</td>\n",
       "      <td>1000</td>\n",
       "      <td>0</td>\n",
       "      <td>208</td>\n",
       "      <td>334</td>\n",
       "      <td>523</td>\n",
       "      <td>647</td>\n",
       "    </tr>\n",
       "  </tbody>\n",
       "</table>\n",
       "</div>"
      ],
      "text/plain": [
       "        img_file          category  box_left  box_top  box_height  box_width  \\\n",
       "0  0141-0009.png  Overlapping text       705      416         166        186   \n",
       "1  0141-0014.png  Overlapping text       523      208         126        124   \n",
       "\n",
       "   img_width  img_height  int_category  xmin  xmax  ymin  ymax  \n",
       "0       1000        1000             0   416   582   705   891  \n",
       "1       1000        1000             0   208   334   523   647  "
      ]
     },
     "execution_count": 57,
     "metadata": {},
     "output_type": "execute_result"
    }
   ],
   "source": [
    "df_ann = annot_rcnn(annot_file, \"Overlapping text\")\n",
    "df_ann.head()"
   ]
  },
  {
   "cell_type": "markdown",
   "metadata": {},
   "source": [
    "## View the bounding box on the annotated original image\n"
   ]
  },
  {
   "cell_type": "code",
   "execution_count": 68,
   "metadata": {},
   "outputs": [],
   "source": [
    "\n",
    "import skimage.io\n",
    "import matplotlib.pyplot, matplotlib.patches\n",
    "\n",
    "def extract_boxes(img_file):\n",
    "    \n",
    "    '''filter the dataframe to a single image return all bounding boxes \n",
    "    if the filtered dataframe is empty return '''\n",
    "   \n",
    "    boxes = list()\n",
    "\n",
    "    fil_df = df_ann[df_ann['img_file'] == img_file]\n",
    "    fil_df = fil_df.reset_index()  # make sure indexes pair with number of rows\n",
    "\n",
    "    if len(fil_df) == 0:\n",
    "        boxes.append([0,0,0,0])\n",
    "        return boxes\n",
    "    else:\n",
    "        for index, row in fil_df.iterrows():\n",
    "            xmin = int(fil_df['xmin'])\n",
    "            ymin = int(fil_df['ymin'])\n",
    "            xmax = int(fil_df['xmax'])\n",
    "            ymax = int(fil_df['ymax'])\n",
    "            \n",
    "            coors = [ymin, xmin, ymax, xmax] # reverse from example \n",
    "            boxes.append(coors)\n",
    "        return boxes\n"
   ]
  },
  {
   "cell_type": "code",
   "execution_count": 71,
   "metadata": {},
   "outputs": [],
   "source": [
    "img_file =\"0141-0014.png\"\n"
   ]
  },
  {
   "cell_type": "code",
   "execution_count": 72,
   "metadata": {},
   "outputs": [
    {
     "name": "stdout",
     "output_type": "stream",
     "text": [
      "There are 1 objects in the image.\n",
      "BBoxes: [[523, 208, 647, 334]]\n",
      "\n"
     ]
    },
    {
     "data": {
      "image/png": "[encoded data removed]",
      "text/plain": [
       "<Figure size 432x288 with 1 Axes>"
      ]
     },
     "metadata": {
      "needs_background": "light"
     },
     "output_type": "display_data"
    }
   ],
   "source": [
    "#img = skimage.io.imread(\"./images/\" + im_name + \".jpg\")\n",
    "s3_clientobj = client.get_object(Bucket='label-test3', Key=img_file)\n",
    "\n",
    "img = mpimg.imread(BytesIO(s3_clientobj['Body'].read()), 'jp2')\n",
    "\n",
    "boxes = extract_boxes(img_file)\n",
    "print(\"There are {count} objects in the image.\".format(count=len(boxes)))\n",
    "print(\"BBoxes:\", boxes, end=\"\\n\\n\")\n",
    "\n",
    "fig, ax = matplotlib.pyplot.subplots()\n",
    "ax.imshow(img)\n",
    "\n",
    "for box_idx in range(len(boxes)):\n",
    "    rect = matplotlib.patches.Rectangle((boxes[box_idx][0], boxes[box_idx][1]), \n",
    "                                        boxes[box_idx][2]-boxes[box_idx][0],\n",
    "                                        boxes[box_idx][3]-boxes[box_idx][1], \n",
    "                                        linewidth=5, \n",
    "                                        edgecolor='r', \n",
    "                                        facecolor='none')\n",
    "    ax.add_patch(rect)\n",
    "\n",
    "matplotlib.pyplot.show()"
   ]
  },
  {
   "cell_type": "markdown",
   "metadata": {},
   "source": [
    "## 2.1 Extend mrcnn.utils.Dataset Class"
   ]
  },
  {
   "cell_type": "code",
   "execution_count": 74,
   "metadata": {},
   "outputs": [
    {
     "name": "stdout",
     "output_type": "stream",
     "text": [
      "/opt/conda/lib/python3.7/site-packages/secretstorage/dhcrypto.py:16: CryptographyDeprecationWarning: int_from_bytes is deprecated, use int.from_bytes instead\n",
      "  from cryptography.utils import int_from_bytes\n",
      "/opt/conda/lib/python3.7/site-packages/secretstorage/util.py:25: CryptographyDeprecationWarning: int_from_bytes is deprecated, use int.from_bytes instead\n",
      "  from cryptography.utils import int_from_bytes\n",
      "Collecting mrcnn\n",
      "  Downloading mrcnn-0.2.tar.gz (51 kB)\n",
      "     |████████████████████████████████| 51 kB 42 kB/s              \n",
      "\u001b[?25h  Preparing metadata (setup.py) ... \u001b[?25ldone\n",
      "\u001b[?25hBuilding wheels for collected packages: mrcnn\n",
      "  Building wheel for mrcnn (setup.py) ... \u001b[?25ldone\n",
      "\u001b[?25h  Created wheel for mrcnn: filename=mrcnn-0.2-py3-none-any.whl size=54931 sha256=15ef98475c6be9eca54e572fafbaf0b396c5e0e31b0193e843a33d6ddf10a104\n",
      "  Stored in directory: /root/.cache/pip/wheels/1d/94/0d/03ff96abc43d2d6c8299a92cbb4eced2a1eda3ca7911c19427\n",
      "Successfully built mrcnn\n",
      "Installing collected packages: mrcnn\n",
      "Successfully installed mrcnn-0.2\n",
      "\u001b[33mWARNING: Running pip as the 'root' user can result in broken permissions and conflicting behaviour with the system package manager. It is recommended to use a virtual environment instead: https://pip.pypa.io/warnings/venv\u001b[0m\n",
      "\u001b[33mWARNING: You are using pip version 21.3.1; however, version 22.0.3 is available.\n",
      "You should consider upgrading via the '/opt/conda/bin/python -m pip install --upgrade pip' command.\u001b[0m\n"
     ]
    },
    {
     "name": "stderr",
     "output_type": "stream",
     "text": [
      "Using TensorFlow backend.\n"
     ]
    }
   ],
   "source": [
    "import os\n",
    "import xml.etree\n",
    "from numpy import zeros, asarray\n",
    "\n",
    "#!pip install mrcnn\n",
    "import mrcnn\n",
    "import mrcnn.utils\n",
    "import mrcnn.config\n",
    "import mrcnn.model"
   ]
  },
  {
   "cell_type": "markdown",
   "metadata": {},
   "source": [
    "## Split Test and Validation "
   ]
  },
  {
   "cell_type": "code",
   "execution_count": 82,
   "metadata": {},
   "outputs": [
    {
     "name": "stdout",
     "output_type": "stream",
     "text": [
      "number of original images:  31\n",
      "['0006-0044.png', '0006-0045.png', '0006-0053.png', '0010-0043.png', '0010-0044.png']\n"
     ]
    }
   ],
   "source": [
    "list_imgs = []\n",
    "\n",
    "for content in response.get('Contents', []):\n",
    "    if content['Key'].endswith('png') or content['Key'].endswith('jpeg'):\n",
    "        list_imgs.append(str(content['Key']))\n",
    "        \n",
    "print(\"number of original images: \", len(list_imgs))\n",
    "print(list_imgs[:5])"
   ]
  },
  {
   "cell_type": "code",
   "execution_count": 84,
   "metadata": {},
   "outputs": [],
   "source": [
    "import random\n",
    "seed = 123\n",
    "random.Random(seed).shuffle(list_imgs)\n",
    "list_imgs[:5]\n",
    "\n",
    "\n",
    "# split 80/20\n",
    "train_pct = .8\n",
    "\n",
    "split_1 = int(train_pct * len(list_imgs))\n",
    "\n",
    "train_filenames = list_imgs[ :split_1]\n",
    "val_filenames = list_imgs[split_1: ]"
   ]
  },
  {
   "cell_type": "code",
   "execution_count": 75,
   "metadata": {},
   "outputs": [],
   "source": [
    "class KangarooDataset(mrcnn.utils.Dataset):\n",
    "\n",
    "    def load_dataset(self, dataset_dir, is_train=True):\n",
    "        self.add_class(\"dataset\", 1, \"Overlappng Text\")\n",
    "\n",
    "        images_dir = dataset_dir + '/images/'\n",
    "        annotations_dir = dataset_dir + '/annots/'\n",
    "\n",
    "        for filename in os.listdir(images_dir):\n",
    "            image_id = filename[:-4]\n",
    "\n",
    "            if is_train and int(image_id) >= 150:\n",
    "                continue\n",
    "\n",
    "            if not is_train and int(image_id) < 150:\n",
    "                continue\n",
    "\n",
    "            img_path = images_dir + filename\n",
    "            ann_path = annotations_dir + image_id + '.xml'\n",
    "\n",
    "            self.add_image('dataset', image_id=image_id, path=img_path, annotation=ann_path)\n",
    "\n",
    "    def load_mask(self, image_id):\n",
    "        info = self.image_info[image_id]\n",
    "        path = info['annotation']\n",
    "        boxes, w, h = self.extract_boxes(path)\n",
    "        masks = zeros([h, w, len(boxes)], dtype='uint8')\n",
    "\n",
    "        class_ids = list()\n",
    "        for i in range(len(boxes)):\n",
    "            box = boxes[i]\n",
    "            row_s, row_e = box[1], box[3]\n",
    "            col_s, col_e = box[0], box[2]\n",
    "            masks[row_s:row_e, col_s:col_e, i] = 1\n",
    "            class_ids.append(self.class_names.index('kangaroo'))\n",
    "        return masks, asarray(class_ids, dtype='int32')\n",
    "\n",
    "    # A helper method to extract the bounding boxes from the annotation file\n",
    "    def extract_boxes(self, filename):\n",
    "        tree = xml.etree.ElementTree.parse(filename)\n",
    "\n",
    "        root = tree.getroot()\n",
    "\n",
    "        boxes = list()\n",
    "        for box in root.findall('.//bndbox'):\n",
    "            xmin = int(box.find('xmin').text)\n",
    "            ymin = int(box.find('ymin').text)\n",
    "            xmax = int(box.find('xmax').text)\n",
    "            ymax = int(box.find('ymax').text)\n",
    "            coors = [xmin, ymin, xmax, ymax]\n",
    "            boxes.append(coors)\n",
    "\n",
    "        width = int(root.find('.//size/width').text)\n",
    "        height = int(root.find('.//size/height').text)\n",
    "        return boxes, width, height"
   ]
  },
  {
   "cell_type": "code",
   "execution_count": null,
   "metadata": {},
   "outputs": [],
   "source": [
    "# Train\n",
    "train_dataset = KangarooDataset()\n",
    "train_dataset.load_dataset(dataset_dir='./kangaroo-transfer-learning/kangaroo', is_train=True)\n",
    "train_dataset.prepare()\n",
    "\n",
    "# Validation\n",
    "validation_dataset = KangarooDataset()\n",
    "validation_dataset.load_dataset(dataset_dir='./kangaroo-transfer-learning/kangaroo', is_train=False)\n",
    "validation_dataset.prepare()"
   ]
  },
  {
   "cell_type": "code",
   "execution_count": null,
   "metadata": {},
   "outputs": [],
   "source": [
    "class KangarooConfig(mrcnn.config.Config):\n",
    "    NAME = \"kangaroo_cfg\"\n",
    "\n",
    "    GPU_COUNT = 1\n",
    "    IMAGES_PER_GPU = 1\n",
    "    \n",
    "    NUM_CLASSES = 2\n",
    "    \n",
    "    LEARNING_RATE = 0.001\n",
    "\n",
    "    STEPS_PER_EPOCH = 131"
   ]
  }
 ],
 "metadata": {
  "instance_type": "ml.t3.medium",
  "kernelspec": {
   "display_name": "Python 3 (Data Science)",
   "language": "python",
   "name": "python3__SAGEMAKER_INTERNAL__arn:aws:sagemaker:us-east-1:081325390199:image/datascience-1.0"
  },
  "language_info": {
   "codemirror_mode": {
    "name": "ipython",
    "version": 3
   },
   "file_extension": ".py",
   "mimetype": "text/x-python",
   "name": "python",
   "nbconvert_exporter": "python",
   "pygments_lexer": "ipython3",
   "version": "3.7.10"
  }
 },
 "nbformat": 4,
 "nbformat_minor": 4
}
