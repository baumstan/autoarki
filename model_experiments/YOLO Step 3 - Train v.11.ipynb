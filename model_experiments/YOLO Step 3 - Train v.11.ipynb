{
 "cells": [
  {
   "cell_type": "markdown",
   "metadata": {},
   "source": [
    "# YOLO Step 3 v.11\n",
    "\n",
    "*withOUT Synthetic data*\n",
    "\n",
    "Roboflow data generated:\n",
    "* 2022-03-17 no_augmentation\n",
    "* Version 14\n"
   ]
  },
  {
   "cell_type": "code",
   "execution_count": 2,
   "metadata": {},
   "outputs": [],
   "source": [
    "import matplotlib.pyplot as plt\n",
    "import matplotlib.image as mpimg\n",
    "import numpy as np\n",
    "import io\n",
    "import pandas as pd\n",
    "import json\n",
    "import os\n",
    "import glob \n"
   ]
  },
  {
   "cell_type": "code",
   "execution_count": 3,
   "metadata": {},
   "outputs": [],
   "source": [
    "roboflow_version = 14\n",
    "parent_dir = \"/home/ec2-user/AutoArki/yolov5/yolov5/autoarki-\""
   ]
  },
  {
   "cell_type": "code",
   "execution_count": 14,
   "metadata": {},
   "outputs": [
    {
     "name": "stdout",
     "output_type": "stream",
     "text": [
      "loading Roboflow workspace...\n",
      "loading Roboflow project...\n",
      "Downloading Dataset Version Zip in autoarki-14 to yolov5pytorch: 100% [45773995 / 45773995] bytes\n"
     ]
    },
    {
     "name": "stderr",
     "output_type": "stream",
     "text": [
      "Extracting Dataset Version Zip to autoarki-14 in yolov5pytorch:: 100%|██████████| 5176/5176 [00:00<00:00, 10139.77it/s]\n"
     ]
    }
   ],
   "source": [
    "#!pip install roboflow\n",
    "os.chdir(\"/home/ec2-user/AutoArki/yolov5/yolov5\")\n",
    "\n",
    "from roboflow import Roboflow\n",
    "rf = Roboflow(api_key=\"pvpFbwxA6FFS6pAwYdNk\")\n",
    "project = rf.workspace(\"new-workspace-s32a1\").project(\"autoarki\")\n",
    "dataset = project.version(roboflow_version).download(\"yolov5\")\n",
    "\n",
    "roboflow_version_str = str(roboflow_version)+\"/\""
   ]
  },
  {
   "cell_type": "markdown",
   "metadata": {},
   "source": [
    "Manually rename autoarki folder or update the directory path below"
   ]
  },
  {
   "cell_type": "code",
   "execution_count": 20,
   "metadata": {},
   "outputs": [],
   "source": [
    "os.chdir(\"/home/ec2-user/AutoArki/yolov5/yolov5\")\n",
    "\n",
    "!rm -R train; mkdir train\n",
    "!rm -R test; mkdir test\n",
    "!rm -R valid; mkdir valid\n",
    "!cp {parent_dir+roboflow_version_str}train/images/*  train --recursive\n",
    "!cp {parent_dir+roboflow_version_str}train/labels/*  train --recursive\n",
    "!cp {parent_dir+roboflow_version_str}test/images/*  test --recursive\n",
    "!cp {parent_dir+roboflow_version_str}test/labels/*  test --recursive\n",
    "!cp {parent_dir+roboflow_version_str}valid/images/*  valid --recursive\n",
    "!cp {parent_dir+roboflow_version_str}valid/labels/*  valid --recursive\n",
    "\n"
   ]
  },
  {
   "cell_type": "markdown",
   "metadata": {},
   "source": [
    "# Check "
   ]
  },
  {
   "cell_type": "code",
   "execution_count": 21,
   "metadata": {},
   "outputs": [],
   "source": [
    "def count_classes(file_path):\n",
    "    '''\n",
    "    increment class_counts dictionary for each instance of a \n",
    "    class check against roboflow summary (health check)\n",
    "    \n",
    "    '''\n",
    "    infile = open(file_path, \"r\")\n",
    "    lines = infile.readlines()\n",
    "\n",
    "    if len(lines) == 0:\n",
    "        pass\n",
    "    else:\n",
    "        for og_line in lines:\n",
    "            class_counts[og_line[0]] +=1\n",
    "    return class_counts"
   ]
  },
  {
   "cell_type": "markdown",
   "metadata": {},
   "source": [
    "**Class Order**  <br>\n",
    "0: '-' <br>\n",
    "1: Column_Wall_Intersection <br>\n",
    "2: cmu_hinge_clearance <br>\n",
    "3: floating_door <br>\n",
    "4: illegibletext <br>\n",
    "5: missing_wall <br>\n",
    "6: n <br>\n",
    "7: no_stair_direction <br>"
   ]
  },
  {
   "cell_type": "code",
   "execution_count": 22,
   "metadata": {},
   "outputs": [
    {
     "name": "stdout",
     "output_type": "stream",
     "text": [
      "{'0': 1, '1': 306, '2': 21, '3': 552, '4': 4997, '5': 133, '6': 2, '7': 474}\n"
     ]
    }
   ],
   "source": [
    "#Count of class types in train\n",
    "class_counts = {'0':0, '1':0, '2':0, '3': 0, '4': 0, '5': 0, '6':0, '7':0}\n",
    "\n",
    "os.chdir(\"/home/ec2-user/AutoArki/yolov5/yolov5/train\")\n",
    "for file in glob.glob(\"*.txt\"):\n",
    "    count_classes(file)\n",
    "print(class_counts)"
   ]
  },
  {
   "cell_type": "markdown",
   "metadata": {},
   "source": [
    "# Replace Class Type"
   ]
  },
  {
   "cell_type": "markdown",
   "metadata": {},
   "source": [
    "Drop -, cmu, and missing_wall classes"
   ]
  },
  {
   "cell_type": "code",
   "execution_count": 23,
   "metadata": {},
   "outputs": [],
   "source": [
    "classes = {'1': '0', # Column Wall intersection\n",
    "           '3': '1', # Floating Door\n",
    "           '4': '2', # Illegible Text\n",
    "           '7': '3'  # No stair direction\n",
    "          } \n",
    "\n",
    "classes_to_omit = ['0','2','5','6']"
   ]
  },
  {
   "cell_type": "code",
   "execution_count": 24,
   "metadata": {},
   "outputs": [],
   "source": [
    "def replace_class_n_with_class_name(file_path):\n",
    "    '''for a txt file replace the class number with a class name'''\n",
    "    new_lines = []\n",
    "    infile = open(file_path, \"r\")\n",
    "    lines = infile.readlines()\n",
    "\n",
    "    if len(lines) == 0:\n",
    "        pass\n",
    "    else:\n",
    "        for og_line in lines:\n",
    "            class_n = og_line[0]\n",
    "            if class_n in classes_to_omit: \n",
    "                continue\n",
    "            class_str = classes[class_n]\n",
    "            new_line = og_line.replace(class_n, class_str, 1)\n",
    "            new_lines.append(new_line)\n",
    "\n",
    "    with open(file_path, 'w') as outfile:\n",
    "        outfile.write(''.join(new_lines))"
   ]
  },
  {
   "cell_type": "code",
   "execution_count": 25,
   "metadata": {},
   "outputs": [],
   "source": [
    "# replace class names for test and validation txt files\n",
    "\n",
    "os.chdir(\"/home/ec2-user/AutoArki/yolov5/yolov5/train\")\n",
    "for file in glob.glob(\"*.txt\"):\n",
    "    replace_class_n_with_class_name(file)\n",
    "    \n",
    "os.chdir(\"/home/ec2-user/AutoArki/yolov5/yolov5/valid\")\n",
    "for file in glob.glob(\"*.txt\"):\n",
    "    replace_class_n_with_class_name(file)    \n",
    "    "
   ]
  },
  {
   "cell_type": "markdown",
   "metadata": {
    "jp-MarkdownHeadingCollapsed": true,
    "tags": []
   },
   "source": [
    "# Install W&B login to track model - only do once"
   ]
  },
  {
   "cell_type": "code",
   "execution_count": null,
   "metadata": {},
   "outputs": [
    {
     "name": "stdout",
     "output_type": "stream",
     "text": [
      "Defaulting to user installation because normal site-packages is not writeable\n",
      "Requirement already satisfied: wandb in /home/ec2-user/.local/lib/python3.9/site-packages (0.12.10)\n",
      "Requirement already satisfied: docker-pycreds>=0.4.0 in /home/ec2-user/.local/lib/python3.9/site-packages (from wandb) (0.4.0)\n",
      "Requirement already satisfied: Click!=8.0.0,>=7.0 in /home/ec2-user/.local/lib/python3.9/site-packages (from wandb) (8.0.4)\n",
      "Requirement already satisfied: protobuf>=3.12.0 in /home/ec2-user/.local/lib/python3.9/site-packages (from wandb) (3.19.4)\n",
      "Requirement already satisfied: GitPython>=1.0.0 in /home/ec2-user/.local/lib/python3.9/site-packages (from wandb) (3.1.27)\n",
      "Requirement already satisfied: python-dateutil>=2.6.1 in /opt/conda/lib/python3.9/site-packages (from wandb) (2.8.2)\n",
      "Requirement already satisfied: promise<3,>=2.0 in /home/ec2-user/.local/lib/python3.9/site-packages (from wandb) (2.3)\n",
      "Requirement already satisfied: shortuuid>=0.5.0 in /home/ec2-user/.local/lib/python3.9/site-packages (from wandb) (1.0.8)\n",
      "Requirement already satisfied: PyYAML in /home/ec2-user/.local/lib/python3.9/site-packages (from wandb) (6.0)\n",
      "Requirement already satisfied: psutil>=5.0.0 in /home/ec2-user/.local/lib/python3.9/site-packages (from wandb) (5.9.0)\n",
      "Requirement already satisfied: yaspin>=1.0.0 in /home/ec2-user/.local/lib/python3.9/site-packages (from wandb) (2.1.0)\n",
      "Requirement already satisfied: sentry-sdk>=1.0.0 in /home/ec2-user/.local/lib/python3.9/site-packages (from wandb) (1.5.6)\n",
      "Requirement already satisfied: requests<3,>=2.0.0 in /opt/conda/lib/python3.9/site-packages (from wandb) (2.25.1)\n",
      "Requirement already satisfied: pathtools in /home/ec2-user/.local/lib/python3.9/site-packages (from wandb) (0.1.2)\n",
      "Requirement already satisfied: six>=1.13.0 in /opt/conda/lib/python3.9/site-packages (from wandb) (1.16.0)\n",
      "Requirement already satisfied: gitdb<5,>=4.0.1 in /home/ec2-user/.local/lib/python3.9/site-packages (from GitPython>=1.0.0->wandb) (4.0.9)\n",
      "Requirement already satisfied: smmap<6,>=3.0.1 in /home/ec2-user/.local/lib/python3.9/site-packages (from gitdb<5,>=4.0.1->GitPython>=1.0.0->wandb) (5.0.0)\n",
      "Requirement already satisfied: chardet<5,>=3.0.2 in /opt/conda/lib/python3.9/site-packages (from requests<3,>=2.0.0->wandb) (4.0.0)\n",
      "Requirement already satisfied: idna<3,>=2.5 in /opt/conda/lib/python3.9/site-packages (from requests<3,>=2.0.0->wandb) (2.10)\n",
      "Requirement already satisfied: urllib3<1.27,>=1.21.1 in /home/ec2-user/.local/lib/python3.9/site-packages (from requests<3,>=2.0.0->wandb) (1.26.6)\n",
      "Requirement already satisfied: certifi>=2017.4.17 in /home/ec2-user/.local/lib/python3.9/site-packages (from requests<3,>=2.0.0->wandb) (2021.5.30)\n",
      "Requirement already satisfied: termcolor<2.0.0,>=1.1.0 in /home/ec2-user/.local/lib/python3.9/site-packages (from yaspin>=1.0.0->wandb) (1.1.0)\n",
      "\u001b[34m\u001b[1mwandb\u001b[0m: You can find your API key in your browser here: https://wandb.ai/authorize\n",
      "\u001b[34m\u001b[1mwandb\u001b[0m: Paste an API key from your profile and hit enter, or press ctrl+c to quit: \n",
      "Aborted!\n"
     ]
    }
   ],
   "source": [
    "!pip install wandb\n",
    "!wandb login"
   ]
  },
  {
   "cell_type": "code",
   "execution_count": 40,
   "metadata": {},
   "outputs": [
    {
     "name": "stderr",
     "output_type": "stream",
     "text": [
      "Failed to detect the name of this notebook, you can set it manually with the WANDB_NOTEBOOK_NAME environment variable to enable code saving.\n",
      "\u001b[34m\u001b[1mwandb\u001b[0m: You can find your API key in your browser here: https://wandb.ai/authorize\n"
     ]
    },
    {
     "name": "stdin",
     "output_type": "stream",
     "text": [
      "\u001b[34m\u001b[1mwandb\u001b[0m: Paste an API key from your profile and hit enter, or press ctrl+c to quit:  ········································\n"
     ]
    },
    {
     "name": "stderr",
     "output_type": "stream",
     "text": [
      "\u001b[34m\u001b[1mwandb\u001b[0m: Appending key for api.wandb.ai to your netrc file: /home/ec2-user/.netrc\n",
      "\u001b[34m\u001b[1mwandb\u001b[0m: wandb version 0.12.11 is available!  To upgrade, please run:\n",
      "\u001b[34m\u001b[1mwandb\u001b[0m:  $ pip install wandb --upgrade\n"
     ]
    },
    {
     "data": {
      "text/html": [
       "\n",
       "                    Syncing run <strong><a href=\"https://wandb.ai/kbaumstan/my-test-project/runs/229xgdi1\" target=\"_blank\">breezy-haze-1</a></strong> to <a href=\"https://wandb.ai/kbaumstan/my-test-project\" target=\"_blank\">Weights & Biases</a> (<a href=\"https://docs.wandb.com/integrations/jupyter.html\" target=\"_blank\">docs</a>).<br/>\n",
       "\n",
       "                "
      ],
      "text/plain": [
       "<IPython.core.display.HTML object>"
      ]
     },
     "metadata": {},
     "output_type": "display_data"
    },
    {
     "data": {
      "text/html": [
       "<button onClick=\"this.nextSibling.style.display='block';this.style.display='none';\">Display W&B run</button><iframe src=\"https://wandb.ai/kbaumstan/my-test-project/runs/229xgdi1?jupyter=true\" style=\"border:none;width:100%;height:420px;display:none;\"></iframe>"
      ],
      "text/plain": [
       "<wandb.sdk.wandb_run.Run at 0x7f5506191460>"
      ]
     },
     "execution_count": 40,
     "metadata": {},
     "output_type": "execute_result"
    }
   ],
   "source": [
    "import wandb\n",
    "\n",
    "wandb.init(project=\"my-test-project\", entity=\"kbaumstan\")"
   ]
  },
  {
   "cell_type": "markdown",
   "metadata": {
    "tags": []
   },
   "source": [
    "# Learning"
   ]
  },
  {
   "cell_type": "markdown",
   "metadata": {},
   "source": [
    "use smallest YOLO model to start yolov5s.pt"
   ]
  },
  {
   "cell_type": "code",
   "execution_count": 26,
   "metadata": {},
   "outputs": [],
   "source": [
    "import torch\n",
    "import torchvision"
   ]
  },
  {
   "cell_type": "markdown",
   "metadata": {},
   "source": [
    "'0' # Column Wall intersection <br>\n",
    "'1', # Floating Door <br>\n",
    "'2', # Illegible Text <br>\n",
    "'3'  # No stair direction <br>\n"
   ]
  },
  {
   "cell_type": "markdown",
   "metadata": {},
   "source": [
    "## 50 Epochs run on best model weights from experiment YOLO Step 3- Train v.10"
   ]
  },
  {
   "cell_type": "code",
   "execution_count": null,
   "metadata": {},
   "outputs": [
    {
     "name": "stdout",
     "output_type": "stream",
     "text": [
      "\u001b[34m\u001b[1mwandb\u001b[0m: Currently logged in as: \u001b[33mauto-arki\u001b[0m (use `wandb login --relogin` to force relogin)\n",
      "\u001b[34m\u001b[1mtrain: \u001b[0mweights=best_exp39.pt, cfg=, data=custom_dataset.yaml, hyp=data/hyps/hyp.scratch-low.yaml, epochs=300, batch_size=16, imgsz=1280, rect=False, resume=False, nosave=False, noval=False, noautoanchor=False, evolve=None, bucket=, cache=None, image_weights=False, device=, multi_scale=False, single_cls=False, optimizer=AdamW, sync_bn=False, workers=8, project=custom_yolov5, name=exp, exist_ok=False, quad=False, cos_lr=False, label_smoothing=0.0, patience=10, freeze=[0], save_period=10, local_rank=-1, entity=None, upload_dataset=False, bbox_interval=1, artifact_alias=latest\n",
      "\u001b[34m\u001b[1mgithub: \u001b[0m⚠️ YOLOv5 is out of date by 27 commits. Use `git pull` or `git clone https://github.com/ultralytics/yolov5` to update.\n",
      "YOLOv5 🚀 v6.1-11-g63ddb6f torch 1.10.2+cu102 CUDA:0 (Tesla T4, 15110MiB)\n",
      "\n",
      "\u001b[34m\u001b[1mhyperparameters: \u001b[0mlr0=0.01, lrf=0.01, momentum=0.937, weight_decay=0.0005, warmup_epochs=3.0, warmup_momentum=0.8, warmup_bias_lr=0.1, box=0.05, cls=0.5, cls_pw=1.0, obj=1.0, obj_pw=1.0, iou_t=0.2, anchor_t=4.0, fl_gamma=0.0, hsv_h=0.015, hsv_s=0.7, hsv_v=0.4, degrees=0.0, translate=0.1, scale=0.5, shear=0.0, perspective=0.0, flipud=0.0, fliplr=0.5, mosaic=1.0, mixup=0.0, copy_paste=0.0\n",
      "\u001b[34m\u001b[1mTensorBoard: \u001b[0mStart with 'tensorboard --logdir custom_yolov5', view at http://localhost:6006/\n",
      "\u001b[34m\u001b[1mwandb\u001b[0m: wandb version 0.12.11 is available!  To upgrade, please run:\n",
      "\u001b[34m\u001b[1mwandb\u001b[0m:  $ pip install wandb --upgrade\n",
      "\u001b[34m\u001b[1mwandb\u001b[0m: Tracking run with wandb version 0.12.10\n",
      "\u001b[34m\u001b[1mwandb\u001b[0m: Syncing run \u001b[33mswept-blaze-21\u001b[0m\n",
      "\u001b[34m\u001b[1mwandb\u001b[0m: ⭐️ View project at \u001b[34m\u001b[4mhttps://wandb.ai/auto-arki/custom_yolov5\u001b[0m\n",
      "\u001b[34m\u001b[1mwandb\u001b[0m: 🚀 View run at \u001b[34m\u001b[4mhttps://wandb.ai/auto-arki/custom_yolov5/runs/2ze5sv8k\u001b[0m\n",
      "\u001b[34m\u001b[1mwandb\u001b[0m: Run data is saved locally in /home/ec2-user/AutoArki/yolov5/yolov5/wandb/run-20220317_231156-2ze5sv8k\n",
      "\u001b[34m\u001b[1mwandb\u001b[0m: Run `wandb offline` to turn off syncing.\n",
      "\n",
      "\n",
      "                 from  n    params  module                                  arguments                     \n",
      "  0                -1  1      3520  models.common.Conv                      [3, 32, 6, 2, 2]              \n",
      "  1                -1  1     18560  models.common.Conv                      [32, 64, 3, 2]                \n",
      "  2                -1  1     18816  models.common.C3                        [64, 64, 1]                   \n",
      "  3                -1  1     73984  models.common.Conv                      [64, 128, 3, 2]               \n",
      "  4                -1  2    115712  models.common.C3                        [128, 128, 2]                 \n",
      "  5                -1  1    295424  models.common.Conv                      [128, 256, 3, 2]              \n",
      "  6                -1  3    625152  models.common.C3                        [256, 256, 3]                 \n",
      "  7                -1  1   1180672  models.common.Conv                      [256, 512, 3, 2]              \n",
      "  8                -1  1   1182720  models.common.C3                        [512, 512, 1]                 \n",
      "  9                -1  1    656896  models.common.SPPF                      [512, 512, 5]                 \n",
      " 10                -1  1    131584  models.common.Conv                      [512, 256, 1, 1]              \n",
      " 11                -1  1         0  torch.nn.modules.upsampling.Upsample    [None, 2, 'nearest']          \n",
      " 12           [-1, 6]  1         0  models.common.Concat                    [1]                           \n",
      " 13                -1  1    361984  models.common.C3                        [512, 256, 1, False]          \n",
      " 14                -1  1     33024  models.common.Conv                      [256, 128, 1, 1]              \n",
      " 15                -1  1         0  torch.nn.modules.upsampling.Upsample    [None, 2, 'nearest']          \n",
      " 16           [-1, 4]  1         0  models.common.Concat                    [1]                           \n",
      " 17                -1  1     90880  models.common.C3                        [256, 128, 1, False]          \n",
      " 18                -1  1    147712  models.common.Conv                      [128, 128, 3, 2]              \n",
      " 19          [-1, 14]  1         0  models.common.Concat                    [1]                           \n",
      " 20                -1  1    296448  models.common.C3                        [256, 256, 1, False]          \n",
      " 21                -1  1    590336  models.common.Conv                      [256, 256, 3, 2]              \n",
      " 22          [-1, 10]  1         0  models.common.Concat                    [1]                           \n",
      " 23                -1  1   1182720  models.common.C3                        [512, 512, 1, False]          \n",
      " 24      [17, 20, 23]  1     24273  models.yolo.Detect                      [4, [[10, 13, 16, 30, 33, 23], [30, 61, 62, 45, 59, 119], [116, 90, 156, 198, 373, 326]], [128, 256, 512]]\n",
      "Model Summary: 270 layers, 7030417 parameters, 7030417 gradients, 15.9 GFLOPs\n",
      "\n",
      "Transferred 349/349 items from best_exp39.pt\n",
      "Scaled weight_decay = 0.0005\n",
      "\u001b[34m\u001b[1moptimizer:\u001b[0m AdamW with parameter groups 57 weight (no decay), 60 weight, 60 bias\n",
      "\u001b[34m\u001b[1mtrain: \u001b[0mScanning '/home/ec2-user/AutoArki/yolov5/yolov5/train' images and labels.\u001b[0m\n",
      "\u001b[34m\u001b[1mtrain: \u001b[0mNew cache created: /home/ec2-user/AutoArki/yolov5/yolov5/train.cache\n",
      "\u001b[34m\u001b[1mval: \u001b[0mScanning '/home/ec2-user/AutoArki/yolov5/yolov5/valid' images and labels...\u001b[0m\n",
      "\u001b[34m\u001b[1mval: \u001b[0mNew cache created: /home/ec2-user/AutoArki/yolov5/yolov5/valid.cache\n",
      "Plotting labels to custom_yolov5/exp41/labels.jpg... \n",
      "\n",
      "\u001b[34m\u001b[1mAutoAnchor: \u001b[0m4.97 anchors/target, 0.999 Best Possible Recall (BPR). Current anchors are a good fit to dataset ✅\n",
      "Image sizes 1280 train, 1280 val\n",
      "Using 8 dataloader workers\n",
      "Logging results to \u001b[1mcustom_yolov5/exp41\u001b[0m\n",
      "Starting training for 300 epochs...\n",
      "\n",
      "     Epoch   gpu_mem       box       obj       cls    labels  img_size\n",
      "     0/299       13G   0.04571   0.03745  0.005809         6      1280: 100%|███\n",
      "               Class     Images     Labels          P          R     mAP@.5 mAP@\n",
      "                 all        514       1892      0.596      0.154     0.0629     0.0201\n",
      "\n",
      "     Epoch   gpu_mem       box       obj       cls    labels  img_size\n",
      "     1/299     12.4G   0.04933   0.03924  0.006854         1      1280: 100%|███\n",
      "               Class     Images     Labels          P          R     mAP@.5 mAP@\n",
      "                 all        514       1892      0.793      0.122     0.0392     0.0106\n",
      "\n",
      "     Epoch   gpu_mem       box       obj       cls    labels  img_size\n",
      "     2/299     12.4G   0.05073   0.03969   0.00662         4      1280: 100%|███\n",
      "               Class     Images     Labels          P          R     mAP@.5 mAP@\n",
      "                 all        514       1892     0.0776      0.129     0.0193    0.00477\n",
      "\n",
      "     Epoch   gpu_mem       box       obj       cls    labels  img_size\n",
      "     3/299     12.4G    0.0502    0.0386  0.006863         3      1280: 100%|███\n",
      "               Class     Images     Labels          P          R     mAP@.5 mAP@\n",
      "                 all        514       1892       0.53     0.0833      0.121     0.0722\n",
      "\n",
      "     Epoch   gpu_mem       box       obj       cls    labels  img_size\n",
      "     4/299     12.4G   0.04808   0.03767  0.005709         8      1280: 100%|███\n",
      "               Class     Images     Labels          P          R     mAP@.5 mAP@\n",
      "                 all        514       1892      0.275      0.379       0.22     0.0917\n",
      "\n",
      "     Epoch   gpu_mem       box       obj       cls    labels  img_size\n",
      "     5/299     12.4G   0.04724   0.03795  0.005221         4      1280: 100%|███\n",
      "               Class     Images     Labels          P          R     mAP@.5 mAP@\n",
      "                 all        514       1892      0.312      0.412      0.273      0.122\n",
      "\n",
      "     Epoch   gpu_mem       box       obj       cls    labels  img_size\n",
      "     6/299     12.4G   0.04541   0.03592  0.005008         1      1280: 100%|███\n",
      "               Class     Images     Labels          P          R     mAP@.5 mAP@\n",
      "                 all        514       1892      0.443      0.253     0.0845     0.0427\n",
      "\n",
      "     Epoch   gpu_mem       box       obj       cls    labels  img_size\n",
      "     7/299     12.4G   0.04328   0.03748  0.004505        18      1280: 100%|███\n",
      "               Class     Images     Labels          P          R     mAP@.5 mAP@\n",
      "                 all        514       1892      0.276       0.27       0.14     0.0646\n",
      "\n",
      "     Epoch   gpu_mem       box       obj       cls    labels  img_size\n",
      "     8/299     12.4G   0.04235   0.03555  0.004762         6      1280: 100%|███\n",
      "               Class     Images     Labels          P          R     mAP@.5 mAP@\n",
      "                 all        514       1892      0.469      0.237       0.11     0.0574\n",
      "\n",
      "     Epoch   gpu_mem       box       obj       cls    labels  img_size\n",
      "     9/299     12.4G   0.04139   0.03593  0.003834        11      1280: 100%|███\n",
      "               Class     Images     Labels          P          R     mAP@.5 mAP@\n",
      "                 all        514       1892      0.266      0.486      0.314      0.175\n",
      "Saving model artifact on epoch 10\n",
      "\n",
      "     Epoch   gpu_mem       box       obj       cls    labels  img_size\n",
      "    10/299     12.4G    0.0426   0.03579  0.003297        70      1280:   6%|▌  "
     ]
    }
   ],
   "source": [
    "# reduce epochs and set cos-lr to false\n",
    "os.chdir(\"/home/ec2-user/AutoArki/yolov5/yolov5\")\n",
    "!python train.py\\\n",
    "    --data custom_dataset.yaml \\\n",
    "    --epochs 300 \\\n",
    "    --project custom_yolov5 \\\n",
    "    --bbox_interval 1 \\\n",
    "    --save-period 10 \\\n",
    "    --img 1280 \\\n",
    "    --patience 10 \\\n",
    "    --weights best_exp39.pt \\\n",
    "    --optimizer 'AdamW' \n",
    "#    --cos-lr false\\\n",
    "#    --batch_size 10\n"
   ]
  },
  {
   "cell_type": "code",
   "execution_count": null,
   "metadata": {},
   "outputs": [],
   "source": []
  }
 ],
 "metadata": {
  "instance_type": "ml.t3.medium",
  "kernelspec": {
   "display_name": "Python 3",
   "language": "python",
   "name": "python3"
  },
  "language_info": {
   "codemirror_mode": {
    "name": "ipython",
    "version": 3
   },
   "file_extension": ".py",
   "mimetype": "text/x-python",
   "name": "python",
   "nbconvert_exporter": "python",
   "pygments_lexer": "ipython3",
   "version": "3.9.4"
  }
 },
 "nbformat": 4,
 "nbformat_minor": 4
}
